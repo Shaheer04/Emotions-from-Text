{
 "cells": [
  {
   "cell_type": "code",
   "execution_count": 1,
   "id": "b62f748f",
   "metadata": {
    "execution": {
     "iopub.execute_input": "2024-06-16T19:13:22.977045Z",
     "iopub.status.busy": "2024-06-16T19:13:22.976789Z",
     "iopub.status.idle": "2024-06-16T19:13:36.848839Z",
     "shell.execute_reply": "2024-06-16T19:13:36.847909Z"
    },
    "papermill": {
     "duration": 13.894695,
     "end_time": "2024-06-16T19:13:36.850892",
     "exception": false,
     "start_time": "2024-06-16T19:13:22.956197",
     "status": "completed"
    },
    "tags": []
   },
   "outputs": [
    {
     "name": "stderr",
     "output_type": "stream",
     "text": [
      "2024-06-16 19:13:27.137987: E external/local_xla/xla/stream_executor/cuda/cuda_dnn.cc:9261] Unable to register cuDNN factory: Attempting to register factory for plugin cuDNN when one has already been registered\n",
      "2024-06-16 19:13:27.138083: E external/local_xla/xla/stream_executor/cuda/cuda_fft.cc:607] Unable to register cuFFT factory: Attempting to register factory for plugin cuFFT when one has already been registered\n",
      "2024-06-16 19:13:27.253331: E external/local_xla/xla/stream_executor/cuda/cuda_blas.cc:1515] Unable to register cuBLAS factory: Attempting to register factory for plugin cuBLAS when one has already been registered\n"
     ]
    },
    {
     "name": "stdout",
     "output_type": "stream",
     "text": [
      "[nltk_data] Downloading package omw-1.4 to /usr/share/nltk_data...\n"
     ]
    },
    {
     "data": {
      "text/plain": [
       "True"
      ]
     },
     "execution_count": 1,
     "metadata": {},
     "output_type": "execute_result"
    }
   ],
   "source": [
    "import re\n",
    "import nltk\n",
    "import string\n",
    "import numpy as np\n",
    "import pandas as pd\n",
    "import seaborn as sns\n",
    "import matplotlib.pyplot as plt\n",
    "from nltk.corpus import stopwords\n",
    "from nltk.stem import SnowballStemmer, WordNetLemmatizer\n",
    "from sklearn.feature_extraction.text import TfidfVectorizer\n",
    "\n",
    "from sklearn.preprocessing import LabelEncoder\n",
    "from sklearn.model_selection import train_test_split\n",
    "\n",
    "from tensorflow.keras.utils import to_categorical\n",
    "from tensorflow.keras.preprocessing.text import Tokenizer\n",
    "from tensorflow.keras.preprocessing.sequence import pad_sequences\n",
    "\n",
    "from tensorflow.keras.optimizers import Adam\n",
    "from tensorflow.keras.models import Sequential\n",
    "from tensorflow.keras.callbacks import EarlyStopping\n",
    "from tensorflow.keras.layers import Dense, LSTM, Embedding, Bidirectional\n",
    "\n",
    "#nltk.download(\"stopwords\")\n",
    "stop_words = set(stopwords.words(\"english\"))\n",
    "lemmatizer= WordNetLemmatizer()\n",
    "\n",
    "# Modelling\n",
    "from sklearn.model_selection import train_test_split,KFold, GridSearchCV\n",
    "from sklearn.ensemble import RandomForestClassifier\n",
    "from sklearn.linear_model import LogisticRegression\n",
    "from sklearn.tree import DecisionTreeClassifier\n",
    "from sklearn.ensemble import RandomForestClassifier\n",
    "from sklearn.metrics import accuracy_score,confusion_matrix, classification_report\n",
    "from sklearn.pipeline import Pipeline\n",
    "from sklearn.metrics import f1_score\n",
    "from sklearn.svm import SVC\n",
    "\n",
    "#Lime\n",
    "from lime import lime_text\n",
    "from lime.lime_text import LimeTextExplainer\n",
    "from lime.lime_text import IndexedString,IndexedCharacters\n",
    "from lime.lime_base import LimeBase\n",
    "from lime.lime_text import explanation\n",
    "sns.set(font_scale=1.3)\n",
    "nltk.download('omw-1.4')"
   ]
  },
  {
   "cell_type": "code",
   "execution_count": 2,
   "id": "06161f86",
   "metadata": {
    "execution": {
     "iopub.execute_input": "2024-06-16T19:13:36.892757Z",
     "iopub.status.busy": "2024-06-16T19:13:36.892222Z",
     "iopub.status.idle": "2024-06-16T19:13:38.147769Z",
     "shell.execute_reply": "2024-06-16T19:13:38.146292Z"
    },
    "papermill": {
     "duration": 1.279619,
     "end_time": "2024-06-16T19:13:38.150472",
     "exception": false,
     "start_time": "2024-06-16T19:13:36.870853",
     "status": "completed"
    },
    "tags": []
   },
   "outputs": [
    {
     "name": "stderr",
     "output_type": "stream",
     "text": [
      "/opt/conda/lib/python3.10/pty.py:89: RuntimeWarning: os.fork() was called. os.fork() is incompatible with multithreaded code, and JAX is multithreaded, so this will likely lead to a deadlock.\n",
      "  pid, fd = os.forkpty()\n"
     ]
    },
    {
     "name": "stdout",
     "output_type": "stream",
     "text": [
      "Archive:  /usr/share/nltk_data/corpora/wordnet.zip\r\n",
      "   creating: /usr/share/nltk_data/corpora/wordnet/\r\n",
      "  inflating: /usr/share/nltk_data/corpora/wordnet/lexnames  \r\n",
      "  inflating: /usr/share/nltk_data/corpora/wordnet/data.verb  \r\n",
      "  inflating: /usr/share/nltk_data/corpora/wordnet/index.adv  \r\n",
      "  inflating: /usr/share/nltk_data/corpora/wordnet/adv.exc  \r\n",
      "  inflating: /usr/share/nltk_data/corpora/wordnet/index.verb  \r\n",
      "  inflating: /usr/share/nltk_data/corpora/wordnet/cntlist.rev  \r\n",
      "  inflating: /usr/share/nltk_data/corpora/wordnet/data.adj  \r\n",
      "  inflating: /usr/share/nltk_data/corpora/wordnet/index.adj  \r\n",
      "  inflating: /usr/share/nltk_data/corpora/wordnet/LICENSE  \r\n",
      "  inflating: /usr/share/nltk_data/corpora/wordnet/citation.bib  \r\n",
      "  inflating: /usr/share/nltk_data/corpora/wordnet/noun.exc  \r\n",
      "  inflating: /usr/share/nltk_data/corpora/wordnet/verb.exc  \r\n",
      "  inflating: /usr/share/nltk_data/corpora/wordnet/README  \r\n",
      "  inflating: /usr/share/nltk_data/corpora/wordnet/index.sense  \r\n",
      "  inflating: /usr/share/nltk_data/corpora/wordnet/data.noun  \r\n",
      "  inflating: /usr/share/nltk_data/corpora/wordnet/data.adv  \r\n",
      "  inflating: /usr/share/nltk_data/corpora/wordnet/index.noun  \r\n",
      "  inflating: /usr/share/nltk_data/corpora/wordnet/adj.exc  \r\n"
     ]
    }
   ],
   "source": [
    "!unzip /usr/share/nltk_data/corpora/wordnet.zip -d /usr/share/nltk_data/corpora/"
   ]
  },
  {
   "cell_type": "markdown",
   "id": "d3ddea4d",
   "metadata": {
    "papermill": {
     "duration": 0.019878,
     "end_time": "2024-06-16T19:13:38.190780",
     "exception": false,
     "start_time": "2024-06-16T19:13:38.170902",
     "status": "completed"
    },
    "tags": []
   },
   "source": [
    "# Analsing and Cleaning Dataset"
   ]
  },
  {
   "cell_type": "code",
   "execution_count": 3,
   "id": "5a7dc6de",
   "metadata": {
    "execution": {
     "iopub.execute_input": "2024-06-16T19:13:38.231949Z",
     "iopub.status.busy": "2024-06-16T19:13:38.231596Z",
     "iopub.status.idle": "2024-06-16T19:13:38.313799Z",
     "shell.execute_reply": "2024-06-16T19:13:38.313032Z"
    },
    "papermill": {
     "duration": 0.105138,
     "end_time": "2024-06-16T19:13:38.315728",
     "exception": false,
     "start_time": "2024-06-16T19:13:38.210590",
     "status": "completed"
    },
    "tags": []
   },
   "outputs": [],
   "source": [
    "# Read datasets\n",
    "df_train = pd.read_csv('/kaggle/input/emotions-dataset-for-nlp/train.txt', names=['Text', 'Emotion'], sep=';')\n",
    "df_val = pd.read_csv('/kaggle/input/emotions-dataset-for-nlp/val.txt', names=['Text', 'Emotion'], sep=';')\n",
    "df_test = pd.read_csv('/kaggle/input/emotions-dataset-for-nlp/test.txt', names=['Text', 'Emotion'], sep=';')"
   ]
  },
  {
   "cell_type": "code",
   "execution_count": 4,
   "id": "32164ee0",
   "metadata": {
    "execution": {
     "iopub.execute_input": "2024-06-16T19:13:38.356581Z",
     "iopub.status.busy": "2024-06-16T19:13:38.356310Z",
     "iopub.status.idle": "2024-06-16T19:13:38.372349Z",
     "shell.execute_reply": "2024-06-16T19:13:38.371550Z"
    },
    "papermill": {
     "duration": 0.038595,
     "end_time": "2024-06-16T19:13:38.374252",
     "exception": false,
     "start_time": "2024-06-16T19:13:38.335657",
     "status": "completed"
    },
    "tags": []
   },
   "outputs": [
    {
     "data": {
      "text/html": [
       "<div>\n",
       "<style scoped>\n",
       "    .dataframe tbody tr th:only-of-type {\n",
       "        vertical-align: middle;\n",
       "    }\n",
       "\n",
       "    .dataframe tbody tr th {\n",
       "        vertical-align: top;\n",
       "    }\n",
       "\n",
       "    .dataframe thead th {\n",
       "        text-align: right;\n",
       "    }\n",
       "</style>\n",
       "<table border=\"1\" class=\"dataframe\">\n",
       "  <thead>\n",
       "    <tr style=\"text-align: right;\">\n",
       "      <th></th>\n",
       "      <th>Text</th>\n",
       "      <th>Emotion</th>\n",
       "    </tr>\n",
       "  </thead>\n",
       "  <tbody>\n",
       "    <tr>\n",
       "      <th>0</th>\n",
       "      <td>i didnt feel humiliated</td>\n",
       "      <td>sadness</td>\n",
       "    </tr>\n",
       "    <tr>\n",
       "      <th>1</th>\n",
       "      <td>i can go from feeling so hopeless to so damned...</td>\n",
       "      <td>sadness</td>\n",
       "    </tr>\n",
       "    <tr>\n",
       "      <th>2</th>\n",
       "      <td>im grabbing a minute to post i feel greedy wrong</td>\n",
       "      <td>anger</td>\n",
       "    </tr>\n",
       "    <tr>\n",
       "      <th>3</th>\n",
       "      <td>i am ever feeling nostalgic about the fireplac...</td>\n",
       "      <td>love</td>\n",
       "    </tr>\n",
       "    <tr>\n",
       "      <th>4</th>\n",
       "      <td>i am feeling grouchy</td>\n",
       "      <td>anger</td>\n",
       "    </tr>\n",
       "  </tbody>\n",
       "</table>\n",
       "</div>"
      ],
      "text/plain": [
       "                                                Text  Emotion\n",
       "0                            i didnt feel humiliated  sadness\n",
       "1  i can go from feeling so hopeless to so damned...  sadness\n",
       "2   im grabbing a minute to post i feel greedy wrong    anger\n",
       "3  i am ever feeling nostalgic about the fireplac...     love\n",
       "4                               i am feeling grouchy    anger"
      ]
     },
     "execution_count": 4,
     "metadata": {},
     "output_type": "execute_result"
    }
   ],
   "source": [
    "#print first 5 rows\n",
    "df_train.head()"
   ]
  },
  {
   "cell_type": "code",
   "execution_count": 5,
   "id": "c93c691f",
   "metadata": {
    "execution": {
     "iopub.execute_input": "2024-06-16T19:13:38.415973Z",
     "iopub.status.busy": "2024-06-16T19:13:38.415728Z",
     "iopub.status.idle": "2024-06-16T19:13:38.419957Z",
     "shell.execute_reply": "2024-06-16T19:13:38.419072Z"
    },
    "papermill": {
     "duration": 0.027097,
     "end_time": "2024-06-16T19:13:38.421813",
     "exception": false,
     "start_time": "2024-06-16T19:13:38.394716",
     "status": "completed"
    },
    "tags": []
   },
   "outputs": [
    {
     "name": "stdout",
     "output_type": "stream",
     "text": [
      "(16000, 2)\n"
     ]
    }
   ],
   "source": [
    "#print the shape of the data set\n",
    "print(df_train.shape)"
   ]
  },
  {
   "cell_type": "code",
   "execution_count": 6,
   "id": "b1e8d5d8",
   "metadata": {
    "execution": {
     "iopub.execute_input": "2024-06-16T19:13:38.463009Z",
     "iopub.status.busy": "2024-06-16T19:13:38.462541Z",
     "iopub.status.idle": "2024-06-16T19:13:38.470279Z",
     "shell.execute_reply": "2024-06-16T19:13:38.469455Z"
    },
    "papermill": {
     "duration": 0.03023,
     "end_time": "2024-06-16T19:13:38.472094",
     "exception": false,
     "start_time": "2024-06-16T19:13:38.441864",
     "status": "completed"
    },
    "tags": []
   },
   "outputs": [
    {
     "data": {
      "text/html": [
       "<div>\n",
       "<style scoped>\n",
       "    .dataframe tbody tr th:only-of-type {\n",
       "        vertical-align: middle;\n",
       "    }\n",
       "\n",
       "    .dataframe tbody tr th {\n",
       "        vertical-align: top;\n",
       "    }\n",
       "\n",
       "    .dataframe thead th {\n",
       "        text-align: right;\n",
       "    }\n",
       "</style>\n",
       "<table border=\"1\" class=\"dataframe\">\n",
       "  <thead>\n",
       "    <tr style=\"text-align: right;\">\n",
       "      <th></th>\n",
       "      <th>Text</th>\n",
       "      <th>Emotion</th>\n",
       "    </tr>\n",
       "  </thead>\n",
       "  <tbody>\n",
       "    <tr>\n",
       "      <th>0</th>\n",
       "      <td>im feeling rather rotten so im not very ambiti...</td>\n",
       "      <td>sadness</td>\n",
       "    </tr>\n",
       "    <tr>\n",
       "      <th>1</th>\n",
       "      <td>im updating my blog because i feel shitty</td>\n",
       "      <td>sadness</td>\n",
       "    </tr>\n",
       "    <tr>\n",
       "      <th>2</th>\n",
       "      <td>i never make her separate from me because i do...</td>\n",
       "      <td>sadness</td>\n",
       "    </tr>\n",
       "    <tr>\n",
       "      <th>3</th>\n",
       "      <td>i left with my bouquet of red and yellow tulip...</td>\n",
       "      <td>joy</td>\n",
       "    </tr>\n",
       "    <tr>\n",
       "      <th>4</th>\n",
       "      <td>i was feeling a little vain when i did this one</td>\n",
       "      <td>sadness</td>\n",
       "    </tr>\n",
       "  </tbody>\n",
       "</table>\n",
       "</div>"
      ],
      "text/plain": [
       "                                                Text  Emotion\n",
       "0  im feeling rather rotten so im not very ambiti...  sadness\n",
       "1          im updating my blog because i feel shitty  sadness\n",
       "2  i never make her separate from me because i do...  sadness\n",
       "3  i left with my bouquet of red and yellow tulip...      joy\n",
       "4    i was feeling a little vain when i did this one  sadness"
      ]
     },
     "execution_count": 6,
     "metadata": {},
     "output_type": "execute_result"
    }
   ],
   "source": [
    "#print first 5 rows\n",
    "df_test.head()"
   ]
  },
  {
   "cell_type": "code",
   "execution_count": 7,
   "id": "db3cac53",
   "metadata": {
    "execution": {
     "iopub.execute_input": "2024-06-16T19:13:38.513391Z",
     "iopub.status.busy": "2024-06-16T19:13:38.513096Z",
     "iopub.status.idle": "2024-06-16T19:13:38.517283Z",
     "shell.execute_reply": "2024-06-16T19:13:38.516526Z"
    },
    "papermill": {
     "duration": 0.027177,
     "end_time": "2024-06-16T19:13:38.519301",
     "exception": false,
     "start_time": "2024-06-16T19:13:38.492124",
     "status": "completed"
    },
    "tags": []
   },
   "outputs": [
    {
     "name": "stdout",
     "output_type": "stream",
     "text": [
      "(2000, 2)\n"
     ]
    }
   ],
   "source": [
    "#print the shape of the data set\n",
    "print(df_test.shape)"
   ]
  },
  {
   "cell_type": "code",
   "execution_count": 8,
   "id": "5e5ad604",
   "metadata": {
    "execution": {
     "iopub.execute_input": "2024-06-16T19:13:38.561072Z",
     "iopub.status.busy": "2024-06-16T19:13:38.560839Z",
     "iopub.status.idle": "2024-06-16T19:13:38.568516Z",
     "shell.execute_reply": "2024-06-16T19:13:38.567681Z"
    },
    "papermill": {
     "duration": 0.030723,
     "end_time": "2024-06-16T19:13:38.570515",
     "exception": false,
     "start_time": "2024-06-16T19:13:38.539792",
     "status": "completed"
    },
    "tags": []
   },
   "outputs": [
    {
     "data": {
      "text/html": [
       "<div>\n",
       "<style scoped>\n",
       "    .dataframe tbody tr th:only-of-type {\n",
       "        vertical-align: middle;\n",
       "    }\n",
       "\n",
       "    .dataframe tbody tr th {\n",
       "        vertical-align: top;\n",
       "    }\n",
       "\n",
       "    .dataframe thead th {\n",
       "        text-align: right;\n",
       "    }\n",
       "</style>\n",
       "<table border=\"1\" class=\"dataframe\">\n",
       "  <thead>\n",
       "    <tr style=\"text-align: right;\">\n",
       "      <th></th>\n",
       "      <th>Text</th>\n",
       "      <th>Emotion</th>\n",
       "    </tr>\n",
       "  </thead>\n",
       "  <tbody>\n",
       "    <tr>\n",
       "      <th>0</th>\n",
       "      <td>im feeling quite sad and sorry for myself but ...</td>\n",
       "      <td>sadness</td>\n",
       "    </tr>\n",
       "    <tr>\n",
       "      <th>1</th>\n",
       "      <td>i feel like i am still looking at a blank canv...</td>\n",
       "      <td>sadness</td>\n",
       "    </tr>\n",
       "    <tr>\n",
       "      <th>2</th>\n",
       "      <td>i feel like a faithful servant</td>\n",
       "      <td>love</td>\n",
       "    </tr>\n",
       "    <tr>\n",
       "      <th>3</th>\n",
       "      <td>i am just feeling cranky and blue</td>\n",
       "      <td>anger</td>\n",
       "    </tr>\n",
       "    <tr>\n",
       "      <th>4</th>\n",
       "      <td>i can have for a treat or if i am feeling festive</td>\n",
       "      <td>joy</td>\n",
       "    </tr>\n",
       "  </tbody>\n",
       "</table>\n",
       "</div>"
      ],
      "text/plain": [
       "                                                Text  Emotion\n",
       "0  im feeling quite sad and sorry for myself but ...  sadness\n",
       "1  i feel like i am still looking at a blank canv...  sadness\n",
       "2                     i feel like a faithful servant     love\n",
       "3                  i am just feeling cranky and blue    anger\n",
       "4  i can have for a treat or if i am feeling festive      joy"
      ]
     },
     "execution_count": 8,
     "metadata": {},
     "output_type": "execute_result"
    }
   ],
   "source": [
    "#print first 5 rows\n",
    "df_val.head()"
   ]
  },
  {
   "cell_type": "code",
   "execution_count": 9,
   "id": "4506984a",
   "metadata": {
    "execution": {
     "iopub.execute_input": "2024-06-16T19:13:38.613983Z",
     "iopub.status.busy": "2024-06-16T19:13:38.613752Z",
     "iopub.status.idle": "2024-06-16T19:13:38.617738Z",
     "shell.execute_reply": "2024-06-16T19:13:38.616922Z"
    },
    "papermill": {
     "duration": 0.027196,
     "end_time": "2024-06-16T19:13:38.619795",
     "exception": false,
     "start_time": "2024-06-16T19:13:38.592599",
     "status": "completed"
    },
    "tags": []
   },
   "outputs": [
    {
     "name": "stdout",
     "output_type": "stream",
     "text": [
      "(2000, 2)\n"
     ]
    }
   ],
   "source": [
    "#print the shape of the data set\n",
    "print(df_val.shape)"
   ]
  },
  {
   "cell_type": "code",
   "execution_count": 10,
   "id": "138634a0",
   "metadata": {
    "execution": {
     "iopub.execute_input": "2024-06-16T19:13:38.661728Z",
     "iopub.status.busy": "2024-06-16T19:13:38.661485Z",
     "iopub.status.idle": "2024-06-16T19:13:38.675634Z",
     "shell.execute_reply": "2024-06-16T19:13:38.674848Z"
    },
    "papermill": {
     "duration": 0.037277,
     "end_time": "2024-06-16T19:13:38.677432",
     "exception": false,
     "start_time": "2024-06-16T19:13:38.640155",
     "status": "completed"
    },
    "tags": []
   },
   "outputs": [
    {
     "data": {
      "text/plain": [
       "Emotion\n",
       "joy         5362\n",
       "sadness     4666\n",
       "anger       2159\n",
       "fear        1937\n",
       "love        1304\n",
       "surprise     572\n",
       "Name: count, dtype: int64"
      ]
     },
     "execution_count": 10,
     "metadata": {},
     "output_type": "execute_result"
    }
   ],
   "source": [
    "#check if the data is balanced or not\n",
    "df_train.Emotion.value_counts()"
   ]
  },
  {
   "cell_type": "code",
   "execution_count": 11,
   "id": "4ab24bb5",
   "metadata": {
    "execution": {
     "iopub.execute_input": "2024-06-16T19:13:38.719679Z",
     "iopub.status.busy": "2024-06-16T19:13:38.719417Z",
     "iopub.status.idle": "2024-06-16T19:13:38.730154Z",
     "shell.execute_reply": "2024-06-16T19:13:38.729318Z"
    },
    "papermill": {
     "duration": 0.034042,
     "end_time": "2024-06-16T19:13:38.732012",
     "exception": false,
     "start_time": "2024-06-16T19:13:38.697970",
     "status": "completed"
    },
    "tags": []
   },
   "outputs": [
    {
     "data": {
      "text/plain": [
       "Emotion\n",
       "joy         33.51250\n",
       "sadness     29.16250\n",
       "anger       13.49375\n",
       "fear        12.10625\n",
       "love         8.15000\n",
       "surprise     3.57500\n",
       "Name: count, dtype: float64"
      ]
     },
     "execution_count": 11,
     "metadata": {},
     "output_type": "execute_result"
    }
   ],
   "source": [
    "#check if the data is balanced or not\n",
    "df_train.Emotion.value_counts() / df_train.shape[0] *100"
   ]
  },
  {
   "cell_type": "code",
   "execution_count": 12,
   "id": "69f62ae7",
   "metadata": {
    "execution": {
     "iopub.execute_input": "2024-06-16T19:13:38.774465Z",
     "iopub.status.busy": "2024-06-16T19:13:38.774204Z",
     "iopub.status.idle": "2024-06-16T19:13:39.119966Z",
     "shell.execute_reply": "2024-06-16T19:13:39.119116Z"
    },
    "papermill": {
     "duration": 0.369355,
     "end_time": "2024-06-16T19:13:39.122090",
     "exception": false,
     "start_time": "2024-06-16T19:13:38.752735",
     "status": "completed"
    },
    "tags": []
   },
   "outputs": [
    {
     "data": {
      "image/png": "[encoded data removed]",
      "text/plain": [
       "<Figure size 800x400 with 1 Axes>"
      ]
     },
     "metadata": {},
     "output_type": "display_data"
    }
   ],
   "source": [
    "plt.figure(figsize=(8,4))\n",
    "sns.countplot(x='Emotion', data=df_train);"
   ]
  },
  {
   "cell_type": "markdown",
   "id": "8e5aeac3",
   "metadata": {
    "papermill": {
     "duration": 0.020904,
     "end_time": "2024-06-16T19:13:39.164597",
     "exception": false,
     "start_time": "2024-06-16T19:13:39.143693",
     "status": "completed"
    },
    "tags": []
   },
   "source": [
    "The data is imbalanced so, we may try to balance it but also, the emotions that we interested in are the most repeated emotion so, till now we can keep the data as it is"
   ]
  },
  {
   "cell_type": "code",
   "execution_count": 13,
   "id": "223e8bca",
   "metadata": {
    "execution": {
     "iopub.execute_input": "2024-06-16T19:13:39.207965Z",
     "iopub.status.busy": "2024-06-16T19:13:39.207706Z",
     "iopub.status.idle": "2024-06-16T19:13:39.217792Z",
     "shell.execute_reply": "2024-06-16T19:13:39.216948Z"
    },
    "papermill": {
     "duration": 0.034031,
     "end_time": "2024-06-16T19:13:39.219733",
     "exception": false,
     "start_time": "2024-06-16T19:13:39.185702",
     "status": "completed"
    },
    "tags": []
   },
   "outputs": [
    {
     "data": {
      "text/plain": [
       "Text       0\n",
       "Emotion    0\n",
       "dtype: int64"
      ]
     },
     "execution_count": 13,
     "metadata": {},
     "output_type": "execute_result"
    }
   ],
   "source": [
    "#print the number of null values in each column\n",
    "df_train.isnull().sum()"
   ]
  },
  {
   "cell_type": "code",
   "execution_count": 14,
   "id": "504837f8",
   "metadata": {
    "execution": {
     "iopub.execute_input": "2024-06-16T19:13:39.263742Z",
     "iopub.status.busy": "2024-06-16T19:13:39.263488Z",
     "iopub.status.idle": "2024-06-16T19:13:39.276029Z",
     "shell.execute_reply": "2024-06-16T19:13:39.275202Z"
    },
    "papermill": {
     "duration": 0.037006,
     "end_time": "2024-06-16T19:13:39.278030",
     "exception": false,
     "start_time": "2024-06-16T19:13:39.241024",
     "status": "completed"
    },
    "tags": []
   },
   "outputs": [
    {
     "data": {
      "text/plain": [
       "1"
      ]
     },
     "execution_count": 14,
     "metadata": {},
     "output_type": "execute_result"
    }
   ],
   "source": [
    "#print the number of duplicated values \n",
    "df_train.duplicated().sum()"
   ]
  },
  {
   "cell_type": "code",
   "execution_count": 15,
   "id": "1657ef37",
   "metadata": {
    "execution": {
     "iopub.execute_input": "2024-06-16T19:13:39.322972Z",
     "iopub.status.busy": "2024-06-16T19:13:39.322435Z",
     "iopub.status.idle": "2024-06-16T19:13:39.337391Z",
     "shell.execute_reply": "2024-06-16T19:13:39.336791Z"
    },
    "papermill": {
     "duration": 0.039348,
     "end_time": "2024-06-16T19:13:39.339371",
     "exception": false,
     "start_time": "2024-06-16T19:13:39.300023",
     "status": "completed"
    },
    "tags": []
   },
   "outputs": [],
   "source": [
    "#removing duplicated values\n",
    "index = df_train[df_train.duplicated() == True].index\n",
    "df_train.drop(index, axis = 0, inplace = True)\n",
    "df_train.reset_index(inplace=True, drop = True)"
   ]
  },
  {
   "cell_type": "code",
   "execution_count": 16,
   "id": "5f83f478",
   "metadata": {
    "execution": {
     "iopub.execute_input": "2024-06-16T19:13:39.384089Z",
     "iopub.status.busy": "2024-06-16T19:13:39.383847Z",
     "iopub.status.idle": "2024-06-16T19:13:39.397447Z",
     "shell.execute_reply": "2024-06-16T19:13:39.396346Z"
    },
    "papermill": {
     "duration": 0.037824,
     "end_time": "2024-06-16T19:13:39.399389",
     "exception": false,
     "start_time": "2024-06-16T19:13:39.361565",
     "status": "completed"
    },
    "tags": []
   },
   "outputs": [
    {
     "data": {
      "text/html": [
       "<div>\n",
       "<style scoped>\n",
       "    .dataframe tbody tr th:only-of-type {\n",
       "        vertical-align: middle;\n",
       "    }\n",
       "\n",
       "    .dataframe tbody tr th {\n",
       "        vertical-align: top;\n",
       "    }\n",
       "\n",
       "    .dataframe thead th {\n",
       "        text-align: right;\n",
       "    }\n",
       "</style>\n",
       "<table border=\"1\" class=\"dataframe\">\n",
       "  <thead>\n",
       "    <tr style=\"text-align: right;\">\n",
       "      <th></th>\n",
       "      <th>Text</th>\n",
       "      <th>Emotion</th>\n",
       "    </tr>\n",
       "  </thead>\n",
       "  <tbody>\n",
       "    <tr>\n",
       "      <th>5067</th>\n",
       "      <td>i feel on the verge of tears from weariness i ...</td>\n",
       "      <td>joy</td>\n",
       "    </tr>\n",
       "    <tr>\n",
       "      <th>6133</th>\n",
       "      <td>i still feel a craving for sweet food</td>\n",
       "      <td>love</td>\n",
       "    </tr>\n",
       "    <tr>\n",
       "      <th>6563</th>\n",
       "      <td>i tend to stop breathing when i m feeling stre...</td>\n",
       "      <td>anger</td>\n",
       "    </tr>\n",
       "    <tr>\n",
       "      <th>7623</th>\n",
       "      <td>i was intensely conscious of how much cash i h...</td>\n",
       "      <td>sadness</td>\n",
       "    </tr>\n",
       "    <tr>\n",
       "      <th>7685</th>\n",
       "      <td>im still not sure why reilly feels the need to...</td>\n",
       "      <td>surprise</td>\n",
       "    </tr>\n",
       "    <tr>\n",
       "      <th>8246</th>\n",
       "      <td>i am not amazing or great at photography but i...</td>\n",
       "      <td>love</td>\n",
       "    </tr>\n",
       "    <tr>\n",
       "      <th>9596</th>\n",
       "      <td>ive also made it with both sugar measurements ...</td>\n",
       "      <td>joy</td>\n",
       "    </tr>\n",
       "    <tr>\n",
       "      <th>9687</th>\n",
       "      <td>i had to choose the sleek and smoother feel of...</td>\n",
       "      <td>joy</td>\n",
       "    </tr>\n",
       "    <tr>\n",
       "      <th>9769</th>\n",
       "      <td>i often find myself feeling assaulted by a mul...</td>\n",
       "      <td>sadness</td>\n",
       "    </tr>\n",
       "    <tr>\n",
       "      <th>9786</th>\n",
       "      <td>i feel im being generous with that statement</td>\n",
       "      <td>joy</td>\n",
       "    </tr>\n",
       "    <tr>\n",
       "      <th>10117</th>\n",
       "      <td>i feel pretty tortured because i work a job an...</td>\n",
       "      <td>fear</td>\n",
       "    </tr>\n",
       "    <tr>\n",
       "      <th>10581</th>\n",
       "      <td>i feel most passionate about</td>\n",
       "      <td>joy</td>\n",
       "    </tr>\n",
       "    <tr>\n",
       "      <th>11273</th>\n",
       "      <td>i was so stubborn and that it took you getting...</td>\n",
       "      <td>joy</td>\n",
       "    </tr>\n",
       "    <tr>\n",
       "      <th>11354</th>\n",
       "      <td>i write these words i feel sweet baby kicks fr...</td>\n",
       "      <td>love</td>\n",
       "    </tr>\n",
       "    <tr>\n",
       "      <th>11525</th>\n",
       "      <td>i feel a remembrance of the strange by justin ...</td>\n",
       "      <td>fear</td>\n",
       "    </tr>\n",
       "    <tr>\n",
       "      <th>11823</th>\n",
       "      <td>i have chose for myself that makes me feel ama...</td>\n",
       "      <td>joy</td>\n",
       "    </tr>\n",
       "    <tr>\n",
       "      <th>12441</th>\n",
       "      <td>i still feel completely accepted</td>\n",
       "      <td>love</td>\n",
       "    </tr>\n",
       "    <tr>\n",
       "      <th>12562</th>\n",
       "      <td>i feel so weird about it</td>\n",
       "      <td>surprise</td>\n",
       "    </tr>\n",
       "    <tr>\n",
       "      <th>12892</th>\n",
       "      <td>i cant escape the tears of sadness and just tr...</td>\n",
       "      <td>joy</td>\n",
       "    </tr>\n",
       "    <tr>\n",
       "      <th>13236</th>\n",
       "      <td>i feel like a tortured artist when i talk to her</td>\n",
       "      <td>anger</td>\n",
       "    </tr>\n",
       "    <tr>\n",
       "      <th>13879</th>\n",
       "      <td>i feel like i am very passionate about youtube...</td>\n",
       "      <td>love</td>\n",
       "    </tr>\n",
       "    <tr>\n",
       "      <th>14106</th>\n",
       "      <td>i feel kind of strange</td>\n",
       "      <td>surprise</td>\n",
       "    </tr>\n",
       "    <tr>\n",
       "      <th>14313</th>\n",
       "      <td>i could feel myself hit this strange foggy wall</td>\n",
       "      <td>surprise</td>\n",
       "    </tr>\n",
       "    <tr>\n",
       "      <th>14633</th>\n",
       "      <td>i feel pretty weird blogging about deodorant b...</td>\n",
       "      <td>fear</td>\n",
       "    </tr>\n",
       "    <tr>\n",
       "      <th>14925</th>\n",
       "      <td>i resorted to yesterday the post peak day of i...</td>\n",
       "      <td>fear</td>\n",
       "    </tr>\n",
       "    <tr>\n",
       "      <th>15314</th>\n",
       "      <td>i will feel as though i am accepted by as well...</td>\n",
       "      <td>joy</td>\n",
       "    </tr>\n",
       "    <tr>\n",
       "      <th>15328</th>\n",
       "      <td>i shy away from songs that talk about how i fe...</td>\n",
       "      <td>joy</td>\n",
       "    </tr>\n",
       "    <tr>\n",
       "      <th>15571</th>\n",
       "      <td>i bet taylor swift basks in the knowledge that...</td>\n",
       "      <td>anger</td>\n",
       "    </tr>\n",
       "    <tr>\n",
       "      <th>15704</th>\n",
       "      <td>i began to feel accepted by gaia on her own terms</td>\n",
       "      <td>joy</td>\n",
       "    </tr>\n",
       "    <tr>\n",
       "      <th>15875</th>\n",
       "      <td>i was sitting in the corner stewing in my own ...</td>\n",
       "      <td>anger</td>\n",
       "    </tr>\n",
       "  </tbody>\n",
       "</table>\n",
       "</div>"
      ],
      "text/plain": [
       "                                                    Text   Emotion\n",
       "5067   i feel on the verge of tears from weariness i ...       joy\n",
       "6133               i still feel a craving for sweet food      love\n",
       "6563   i tend to stop breathing when i m feeling stre...     anger\n",
       "7623   i was intensely conscious of how much cash i h...   sadness\n",
       "7685   im still not sure why reilly feels the need to...  surprise\n",
       "8246   i am not amazing or great at photography but i...      love\n",
       "9596   ive also made it with both sugar measurements ...       joy\n",
       "9687   i had to choose the sleek and smoother feel of...       joy\n",
       "9769   i often find myself feeling assaulted by a mul...   sadness\n",
       "9786        i feel im being generous with that statement       joy\n",
       "10117  i feel pretty tortured because i work a job an...      fear\n",
       "10581                       i feel most passionate about       joy\n",
       "11273  i was so stubborn and that it took you getting...       joy\n",
       "11354  i write these words i feel sweet baby kicks fr...      love\n",
       "11525  i feel a remembrance of the strange by justin ...      fear\n",
       "11823  i have chose for myself that makes me feel ama...       joy\n",
       "12441                   i still feel completely accepted      love\n",
       "12562                           i feel so weird about it  surprise\n",
       "12892  i cant escape the tears of sadness and just tr...       joy\n",
       "13236   i feel like a tortured artist when i talk to her     anger\n",
       "13879  i feel like i am very passionate about youtube...      love\n",
       "14106                             i feel kind of strange  surprise\n",
       "14313    i could feel myself hit this strange foggy wall  surprise\n",
       "14633  i feel pretty weird blogging about deodorant b...      fear\n",
       "14925  i resorted to yesterday the post peak day of i...      fear\n",
       "15314  i will feel as though i am accepted by as well...       joy\n",
       "15328  i shy away from songs that talk about how i fe...       joy\n",
       "15571  i bet taylor swift basks in the knowledge that...     anger\n",
       "15704  i began to feel accepted by gaia on her own terms       joy\n",
       "15875  i was sitting in the corner stewing in my own ...     anger"
      ]
     },
     "execution_count": 16,
     "metadata": {},
     "output_type": "execute_result"
    }
   ],
   "source": [
    "#print the rows which are duplicated (duplicated in the text but with different emotions)\n",
    "df_train[df_train['Text'].duplicated() == True]"
   ]
  },
  {
   "cell_type": "code",
   "execution_count": 17,
   "id": "5dfb60e4",
   "metadata": {
    "execution": {
     "iopub.execute_input": "2024-06-16T19:13:39.483951Z",
     "iopub.status.busy": "2024-06-16T19:13:39.483634Z",
     "iopub.status.idle": "2024-06-16T19:13:39.492263Z",
     "shell.execute_reply": "2024-06-16T19:13:39.491535Z"
    },
    "papermill": {
     "duration": 0.033437,
     "end_time": "2024-06-16T19:13:39.494189",
     "exception": false,
     "start_time": "2024-06-16T19:13:39.460752",
     "status": "completed"
    },
    "tags": []
   },
   "outputs": [],
   "source": [
    "#removing duplicated text \n",
    "index = df_train[df_train['Text'].duplicated() == True].index\n",
    "df_train.drop(index, axis = 0, inplace = True)\n",
    "df_train.reset_index(inplace=True, drop = True)"
   ]
  },
  {
   "cell_type": "code",
   "execution_count": 18,
   "id": "1ad37d28",
   "metadata": {
    "execution": {
     "iopub.execute_input": "2024-06-16T19:13:39.539294Z",
     "iopub.status.busy": "2024-06-16T19:13:39.538984Z",
     "iopub.status.idle": "2024-06-16T19:13:39.649415Z",
     "shell.execute_reply": "2024-06-16T19:13:39.648557Z"
    },
    "papermill": {
     "duration": 0.135283,
     "end_time": "2024-06-16T19:13:39.651347",
     "exception": false,
     "start_time": "2024-06-16T19:13:39.516064",
     "status": "completed"
    },
    "tags": []
   },
   "outputs": [
    {
     "data": {
      "text/plain": [
       "stop_words\n",
       "5     1416\n",
       "7     1405\n",
       "6     1392\n",
       "4     1341\n",
       "8     1319\n",
       "3     1263\n",
       "9     1177\n",
       "10    1048\n",
       "2      922\n",
       "11     889\n",
       "12     752\n",
       "13     644\n",
       "14     493\n",
       "1      450\n",
       "15     376\n",
       "16     265\n",
       "17     238\n",
       "18     164\n",
       "19     113\n",
       "20      90\n",
       "0       79\n",
       "21      60\n",
       "22      33\n",
       "23      19\n",
       "24       7\n",
       "25       6\n",
       "26       6\n",
       "28       1\n",
       "29       1\n",
       "Name: count, dtype: int64"
      ]
     },
     "execution_count": 18,
     "metadata": {},
     "output_type": "execute_result"
    }
   ],
   "source": [
    "#Count the number of stopwords in the data\n",
    "temp =df_train.copy()\n",
    "stop_words = set(stopwords.words(\"english\"))\n",
    "temp['stop_words'] = temp['Text'].apply(lambda x: len(set(x.split()) & set(stop_words)))\n",
    "temp.stop_words.value_counts()"
   ]
  },
  {
   "cell_type": "code",
   "execution_count": 19,
   "id": "679d109e",
   "metadata": {
    "execution": {
     "iopub.execute_input": "2024-06-16T19:13:39.696490Z",
     "iopub.status.busy": "2024-06-16T19:13:39.696205Z",
     "iopub.status.idle": "2024-06-16T19:13:39.703191Z",
     "shell.execute_reply": "2024-06-16T19:13:39.702390Z"
    },
    "papermill": {
     "duration": 0.031763,
     "end_time": "2024-06-16T19:13:39.705235",
     "exception": false,
     "start_time": "2024-06-16T19:13:39.673472",
     "status": "completed"
    },
    "tags": []
   },
   "outputs": [
    {
     "data": {
      "text/plain": [
       "Emotion\n",
       "joy         695\n",
       "sadness     581\n",
       "anger       275\n",
       "fear        224\n",
       "love        159\n",
       "surprise     66\n",
       "Name: count, dtype: int64"
      ]
     },
     "execution_count": 19,
     "metadata": {},
     "output_type": "execute_result"
    }
   ],
   "source": [
    "#check if the data is balanced or not\n",
    "df_test.Emotion.value_counts()"
   ]
  },
  {
   "cell_type": "code",
   "execution_count": 20,
   "id": "26ff8ca2",
   "metadata": {
    "execution": {
     "iopub.execute_input": "2024-06-16T19:13:39.751987Z",
     "iopub.status.busy": "2024-06-16T19:13:39.751721Z",
     "iopub.status.idle": "2024-06-16T19:13:39.758647Z",
     "shell.execute_reply": "2024-06-16T19:13:39.757835Z"
    },
    "papermill": {
     "duration": 0.032735,
     "end_time": "2024-06-16T19:13:39.760801",
     "exception": false,
     "start_time": "2024-06-16T19:13:39.728066",
     "status": "completed"
    },
    "tags": []
   },
   "outputs": [
    {
     "data": {
      "text/plain": [
       "Text       0\n",
       "Emotion    0\n",
       "dtype: int64"
      ]
     },
     "execution_count": 20,
     "metadata": {},
     "output_type": "execute_result"
    }
   ],
   "source": [
    "#print the number of null values in each column\n",
    "df_test.isnull().sum()"
   ]
  },
  {
   "cell_type": "code",
   "execution_count": 21,
   "id": "fd798476",
   "metadata": {
    "execution": {
     "iopub.execute_input": "2024-06-16T19:13:39.807677Z",
     "iopub.status.busy": "2024-06-16T19:13:39.807422Z",
     "iopub.status.idle": "2024-06-16T19:13:39.813789Z",
     "shell.execute_reply": "2024-06-16T19:13:39.812969Z"
    },
    "papermill": {
     "duration": 0.031612,
     "end_time": "2024-06-16T19:13:39.815739",
     "exception": false,
     "start_time": "2024-06-16T19:13:39.784127",
     "status": "completed"
    },
    "tags": []
   },
   "outputs": [
    {
     "data": {
      "text/plain": [
       "0"
      ]
     },
     "execution_count": 21,
     "metadata": {},
     "output_type": "execute_result"
    }
   ],
   "source": [
    "#print the number of duplicated values \n",
    "df_test.duplicated().sum()"
   ]
  },
  {
   "cell_type": "code",
   "execution_count": 22,
   "id": "d91e4fe5",
   "metadata": {
    "execution": {
     "iopub.execute_input": "2024-06-16T19:13:39.862117Z",
     "iopub.status.busy": "2024-06-16T19:13:39.861858Z",
     "iopub.status.idle": "2024-06-16T19:13:39.869928Z",
     "shell.execute_reply": "2024-06-16T19:13:39.869080Z"
    },
    "papermill": {
     "duration": 0.033317,
     "end_time": "2024-06-16T19:13:39.871948",
     "exception": false,
     "start_time": "2024-06-16T19:13:39.838631",
     "status": "completed"
    },
    "tags": []
   },
   "outputs": [
    {
     "data": {
      "text/html": [
       "<div>\n",
       "<style scoped>\n",
       "    .dataframe tbody tr th:only-of-type {\n",
       "        vertical-align: middle;\n",
       "    }\n",
       "\n",
       "    .dataframe tbody tr th {\n",
       "        vertical-align: top;\n",
       "    }\n",
       "\n",
       "    .dataframe thead th {\n",
       "        text-align: right;\n",
       "    }\n",
       "</style>\n",
       "<table border=\"1\" class=\"dataframe\">\n",
       "  <thead>\n",
       "    <tr style=\"text-align: right;\">\n",
       "      <th></th>\n",
       "      <th>Text</th>\n",
       "      <th>Emotion</th>\n",
       "    </tr>\n",
       "  </thead>\n",
       "  <tbody>\n",
       "  </tbody>\n",
       "</table>\n",
       "</div>"
      ],
      "text/plain": [
       "Empty DataFrame\n",
       "Columns: [Text, Emotion]\n",
       "Index: []"
      ]
     },
     "execution_count": 22,
     "metadata": {},
     "output_type": "execute_result"
    }
   ],
   "source": [
    "#print the rows which are duplicated\n",
    "df_test[df_test['Text'].duplicated() == True]"
   ]
  },
  {
   "cell_type": "code",
   "execution_count": 23,
   "id": "4960941e",
   "metadata": {
    "execution": {
     "iopub.execute_input": "2024-06-16T19:13:39.918977Z",
     "iopub.status.busy": "2024-06-16T19:13:39.918722Z",
     "iopub.status.idle": "2024-06-16T19:13:39.940413Z",
     "shell.execute_reply": "2024-06-16T19:13:39.939485Z"
    },
    "papermill": {
     "duration": 0.046825,
     "end_time": "2024-06-16T19:13:39.942213",
     "exception": false,
     "start_time": "2024-06-16T19:13:39.895388",
     "status": "completed"
    },
    "tags": []
   },
   "outputs": [
    {
     "data": {
      "text/plain": [
       "stop_words\n",
       "7     184\n",
       "6     179\n",
       "3     175\n",
       "5     175\n",
       "4     163\n",
       "9     163\n",
       "8     139\n",
       "10    123\n",
       "2     118\n",
       "11    115\n",
       "12     84\n",
       "13     71\n",
       "15     61\n",
       "14     58\n",
       "1      42\n",
       "16     40\n",
       "17     31\n",
       "18     22\n",
       "20     17\n",
       "19     11\n",
       "21     10\n",
       "0       8\n",
       "23      7\n",
       "24      2\n",
       "22      2\n",
       "Name: count, dtype: int64"
      ]
     },
     "execution_count": 23,
     "metadata": {},
     "output_type": "execute_result"
    }
   ],
   "source": [
    "#Count the number of stopwords in the data\n",
    "temp =df_test.copy()\n",
    "temp['stop_words'] = temp['Text'].apply(lambda x: len(set(x.split()) & set(stop_words)))\n",
    "temp.stop_words.value_counts()"
   ]
  },
  {
   "cell_type": "code",
   "execution_count": 24,
   "id": "e6352738",
   "metadata": {
    "execution": {
     "iopub.execute_input": "2024-06-16T19:13:39.988755Z",
     "iopub.status.busy": "2024-06-16T19:13:39.988519Z",
     "iopub.status.idle": "2024-06-16T19:13:39.995105Z",
     "shell.execute_reply": "2024-06-16T19:13:39.994300Z"
    },
    "papermill": {
     "duration": 0.031792,
     "end_time": "2024-06-16T19:13:39.996945",
     "exception": false,
     "start_time": "2024-06-16T19:13:39.965153",
     "status": "completed"
    },
    "tags": []
   },
   "outputs": [
    {
     "data": {
      "text/plain": [
       "Emotion\n",
       "joy         704\n",
       "sadness     550\n",
       "anger       275\n",
       "fear        212\n",
       "love        178\n",
       "surprise     81\n",
       "Name: count, dtype: int64"
      ]
     },
     "execution_count": 24,
     "metadata": {},
     "output_type": "execute_result"
    }
   ],
   "source": [
    "#check if the data is balanced or not\n",
    "df_val.Emotion.value_counts()"
   ]
  },
  {
   "cell_type": "code",
   "execution_count": 25,
   "id": "33b4821a",
   "metadata": {
    "execution": {
     "iopub.execute_input": "2024-06-16T19:13:40.043424Z",
     "iopub.status.busy": "2024-06-16T19:13:40.043164Z",
     "iopub.status.idle": "2024-06-16T19:13:40.049756Z",
     "shell.execute_reply": "2024-06-16T19:13:40.048889Z"
    },
    "papermill": {
     "duration": 0.032005,
     "end_time": "2024-06-16T19:13:40.051716",
     "exception": false,
     "start_time": "2024-06-16T19:13:40.019711",
     "status": "completed"
    },
    "tags": []
   },
   "outputs": [
    {
     "data": {
      "text/plain": [
       "Text       0\n",
       "Emotion    0\n",
       "dtype: int64"
      ]
     },
     "execution_count": 25,
     "metadata": {},
     "output_type": "execute_result"
    }
   ],
   "source": [
    "#print the number of null values in each column\n",
    "df_val.isnull().sum()"
   ]
  },
  {
   "cell_type": "code",
   "execution_count": 26,
   "id": "2055d183",
   "metadata": {
    "execution": {
     "iopub.execute_input": "2024-06-16T19:13:40.100732Z",
     "iopub.status.busy": "2024-06-16T19:13:40.100239Z",
     "iopub.status.idle": "2024-06-16T19:13:40.106898Z",
     "shell.execute_reply": "2024-06-16T19:13:40.106020Z"
    },
    "papermill": {
     "duration": 0.033519,
     "end_time": "2024-06-16T19:13:40.108780",
     "exception": false,
     "start_time": "2024-06-16T19:13:40.075261",
     "status": "completed"
    },
    "tags": []
   },
   "outputs": [
    {
     "data": {
      "text/plain": [
       "0"
      ]
     },
     "execution_count": 26,
     "metadata": {},
     "output_type": "execute_result"
    }
   ],
   "source": [
    "#print the number of duplicated values \n",
    "df_val.duplicated().sum()"
   ]
  },
  {
   "cell_type": "code",
   "execution_count": 27,
   "id": "813d4ff2",
   "metadata": {
    "execution": {
     "iopub.execute_input": "2024-06-16T19:13:40.155954Z",
     "iopub.status.busy": "2024-06-16T19:13:40.155721Z",
     "iopub.status.idle": "2024-06-16T19:13:40.164200Z",
     "shell.execute_reply": "2024-06-16T19:13:40.163351Z"
    },
    "papermill": {
     "duration": 0.034327,
     "end_time": "2024-06-16T19:13:40.166066",
     "exception": false,
     "start_time": "2024-06-16T19:13:40.131739",
     "status": "completed"
    },
    "tags": []
   },
   "outputs": [
    {
     "data": {
      "text/html": [
       "<div>\n",
       "<style scoped>\n",
       "    .dataframe tbody tr th:only-of-type {\n",
       "        vertical-align: middle;\n",
       "    }\n",
       "\n",
       "    .dataframe tbody tr th {\n",
       "        vertical-align: top;\n",
       "    }\n",
       "\n",
       "    .dataframe thead th {\n",
       "        text-align: right;\n",
       "    }\n",
       "</style>\n",
       "<table border=\"1\" class=\"dataframe\">\n",
       "  <thead>\n",
       "    <tr style=\"text-align: right;\">\n",
       "      <th></th>\n",
       "      <th>Text</th>\n",
       "      <th>Emotion</th>\n",
       "    </tr>\n",
       "  </thead>\n",
       "  <tbody>\n",
       "    <tr>\n",
       "      <th>603</th>\n",
       "      <td>i have had several new members tell me how com...</td>\n",
       "      <td>joy</td>\n",
       "    </tr>\n",
       "    <tr>\n",
       "      <th>1993</th>\n",
       "      <td>i feel so tortured by it</td>\n",
       "      <td>anger</td>\n",
       "    </tr>\n",
       "  </tbody>\n",
       "</table>\n",
       "</div>"
      ],
      "text/plain": [
       "                                                   Text Emotion\n",
       "603   i have had several new members tell me how com...     joy\n",
       "1993                           i feel so tortured by it   anger"
      ]
     },
     "execution_count": 27,
     "metadata": {},
     "output_type": "execute_result"
    }
   ],
   "source": [
    "#print the rows which are duplicated\n",
    "df_val[df_val['Text'].duplicated() == True]"
   ]
  },
  {
   "cell_type": "code",
   "execution_count": 28,
   "id": "00cd1c23",
   "metadata": {
    "execution": {
     "iopub.execute_input": "2024-06-16T19:13:40.213646Z",
     "iopub.status.busy": "2024-06-16T19:13:40.213411Z",
     "iopub.status.idle": "2024-06-16T19:13:40.219387Z",
     "shell.execute_reply": "2024-06-16T19:13:40.218678Z"
    },
    "papermill": {
     "duration": 0.031942,
     "end_time": "2024-06-16T19:13:40.221280",
     "exception": false,
     "start_time": "2024-06-16T19:13:40.189338",
     "status": "completed"
    },
    "tags": []
   },
   "outputs": [],
   "source": [
    "#removing duplicated text\n",
    "index = df_val[df_val['Text'].duplicated() == True].index\n",
    "df_val.drop(index, axis = 0, inplace = True)\n",
    "df_val.reset_index(inplace=True, drop = True)"
   ]
  },
  {
   "cell_type": "code",
   "execution_count": 29,
   "id": "8a090ffe",
   "metadata": {
    "execution": {
     "iopub.execute_input": "2024-06-16T19:13:40.268608Z",
     "iopub.status.busy": "2024-06-16T19:13:40.268346Z",
     "iopub.status.idle": "2024-06-16T19:13:40.289742Z",
     "shell.execute_reply": "2024-06-16T19:13:40.288938Z"
    },
    "papermill": {
     "duration": 0.047135,
     "end_time": "2024-06-16T19:13:40.291526",
     "exception": false,
     "start_time": "2024-06-16T19:13:40.244391",
     "status": "completed"
    },
    "tags": []
   },
   "outputs": [
    {
     "data": {
      "text/plain": [
       "stop_words\n",
       "7     190\n",
       "5     175\n",
       "8     173\n",
       "3     160\n",
       "6     160\n",
       "10    150\n",
       "9     146\n",
       "4     145\n",
       "2     133\n",
       "11    103\n",
       "Name: count, dtype: int64"
      ]
     },
     "execution_count": 29,
     "metadata": {},
     "output_type": "execute_result"
    }
   ],
   "source": [
    "#Count the number of stopwords in the data\n",
    "temp =df_val.copy()\n",
    "temp['stop_words'] = temp['Text'].apply(lambda x: len(set(x.split()) & set(stop_words)))\n",
    "temp.stop_words.value_counts()[:10]"
   ]
  },
  {
   "cell_type": "markdown",
   "id": "f6adb0f1",
   "metadata": {
    "papermill": {
     "duration": 0.023062,
     "end_time": "2024-06-16T19:13:40.337962",
     "exception": false,
     "start_time": "2024-06-16T19:13:40.314900",
     "status": "completed"
    },
    "tags": []
   },
   "source": [
    "### Compare rows of the datasets\n"
   ]
  },
  {
   "cell_type": "markdown",
   "id": "fb8e51d0",
   "metadata": {
    "papermill": {
     "duration": 0.023535,
     "end_time": "2024-06-16T19:13:40.384908",
     "exception": false,
     "start_time": "2024-06-16T19:13:40.361373",
     "status": "completed"
    },
    "tags": []
   },
   "source": [
    "check that there is no data leakage"
   ]
  },
  {
   "cell_type": "code",
   "execution_count": 30,
   "id": "7e97c5b2",
   "metadata": {
    "execution": {
     "iopub.execute_input": "2024-06-16T19:13:40.433043Z",
     "iopub.status.busy": "2024-06-16T19:13:40.432762Z",
     "iopub.status.idle": "2024-06-16T19:13:40.438646Z",
     "shell.execute_reply": "2024-06-16T19:13:40.437797Z"
    },
    "papermill": {
     "duration": 0.032413,
     "end_time": "2024-06-16T19:13:40.440571",
     "exception": false,
     "start_time": "2024-06-16T19:13:40.408158",
     "status": "completed"
    },
    "tags": []
   },
   "outputs": [],
   "source": [
    "def dataframe_difference(df1, df2, which=None):\n",
    "    \"\"\"Find rows which are different between two DataFrames.\"\"\"\n",
    "    \n",
    "    # Combine the two DataFrames using a merge operation, with the\n",
    "    # indicator parameter set to True. This adds a column called _merge\n",
    "    # to the resulting DataFrame, which indicates the source of each row.\n",
    "    comparison_df = df1.merge(\n",
    "        df2,\n",
    "        indicator=True,\n",
    "        how='outer'\n",
    "    )\n",
    "    \n",
    "    # Filter the merged DataFrame based on the value of _merge. If which\n",
    "    # is not specified, return all rows where _merge is not 'both'.\n",
    "    # Otherwise, return all rows where _merge has the specified value\n",
    "    if which is None:\n",
    "        diff_df = comparison_df[comparison_df['_merge'] != 'both']\n",
    "    else:\n",
    "        diff_df = comparison_df[comparison_df['_merge'] == which]\n",
    "        \n",
    "    # Return the filtered DataFrame\n",
    "    return diff_df"
   ]
  },
  {
   "cell_type": "code",
   "execution_count": 31,
   "id": "d548464a",
   "metadata": {
    "execution": {
     "iopub.execute_input": "2024-06-16T19:13:40.489289Z",
     "iopub.status.busy": "2024-06-16T19:13:40.488999Z",
     "iopub.status.idle": "2024-06-16T19:13:40.555210Z",
     "shell.execute_reply": "2024-06-16T19:13:40.554333Z"
    },
    "papermill": {
     "duration": 0.092513,
     "end_time": "2024-06-16T19:13:40.557048",
     "exception": false,
     "start_time": "2024-06-16T19:13:40.464535",
     "status": "completed"
    },
    "tags": []
   },
   "outputs": [
    {
     "data": {
      "text/html": [
       "<div>\n",
       "<style scoped>\n",
       "    .dataframe tbody tr th:only-of-type {\n",
       "        vertical-align: middle;\n",
       "    }\n",
       "\n",
       "    .dataframe tbody tr th {\n",
       "        vertical-align: top;\n",
       "    }\n",
       "\n",
       "    .dataframe thead th {\n",
       "        text-align: right;\n",
       "    }\n",
       "</style>\n",
       "<table border=\"1\" class=\"dataframe\">\n",
       "  <thead>\n",
       "    <tr style=\"text-align: right;\">\n",
       "      <th></th>\n",
       "      <th>Text</th>\n",
       "      <th>Emotion</th>\n",
       "      <th>_merge</th>\n",
       "    </tr>\n",
       "  </thead>\n",
       "  <tbody>\n",
       "  </tbody>\n",
       "</table>\n",
       "</div>"
      ],
      "text/plain": [
       "Empty DataFrame\n",
       "Columns: [Text, Emotion, _merge]\n",
       "Index: []"
      ]
     },
     "execution_count": 31,
     "metadata": {},
     "output_type": "execute_result"
    }
   ],
   "source": [
    "dataframe_difference(df_train, df_test, which='both')"
   ]
  },
  {
   "cell_type": "code",
   "execution_count": 32,
   "id": "e4041a8d",
   "metadata": {
    "execution": {
     "iopub.execute_input": "2024-06-16T19:13:40.605445Z",
     "iopub.status.busy": "2024-06-16T19:13:40.605089Z",
     "iopub.status.idle": "2024-06-16T19:13:40.659484Z",
     "shell.execute_reply": "2024-06-16T19:13:40.658649Z"
    },
    "papermill": {
     "duration": 0.080579,
     "end_time": "2024-06-16T19:13:40.661314",
     "exception": false,
     "start_time": "2024-06-16T19:13:40.580735",
     "status": "completed"
    },
    "tags": []
   },
   "outputs": [
    {
     "data": {
      "text/html": [
       "<div>\n",
       "<style scoped>\n",
       "    .dataframe tbody tr th:only-of-type {\n",
       "        vertical-align: middle;\n",
       "    }\n",
       "\n",
       "    .dataframe tbody tr th {\n",
       "        vertical-align: top;\n",
       "    }\n",
       "\n",
       "    .dataframe thead th {\n",
       "        text-align: right;\n",
       "    }\n",
       "</style>\n",
       "<table border=\"1\" class=\"dataframe\">\n",
       "  <thead>\n",
       "    <tr style=\"text-align: right;\">\n",
       "      <th></th>\n",
       "      <th>Text</th>\n",
       "      <th>Emotion</th>\n",
       "      <th>_merge</th>\n",
       "    </tr>\n",
       "  </thead>\n",
       "  <tbody>\n",
       "  </tbody>\n",
       "</table>\n",
       "</div>"
      ],
      "text/plain": [
       "Empty DataFrame\n",
       "Columns: [Text, Emotion, _merge]\n",
       "Index: []"
      ]
     },
     "execution_count": 32,
     "metadata": {},
     "output_type": "execute_result"
    }
   ],
   "source": [
    "dataframe_difference(df_train, df_val, which='both')"
   ]
  },
  {
   "cell_type": "code",
   "execution_count": 33,
   "id": "c2dd3558",
   "metadata": {
    "execution": {
     "iopub.execute_input": "2024-06-16T19:13:40.709821Z",
     "iopub.status.busy": "2024-06-16T19:13:40.709580Z",
     "iopub.status.idle": "2024-06-16T19:13:40.732584Z",
     "shell.execute_reply": "2024-06-16T19:13:40.731678Z"
    },
    "papermill": {
     "duration": 0.049655,
     "end_time": "2024-06-16T19:13:40.734592",
     "exception": false,
     "start_time": "2024-06-16T19:13:40.684937",
     "status": "completed"
    },
    "tags": []
   },
   "outputs": [
    {
     "data": {
      "text/html": [
       "<div>\n",
       "<style scoped>\n",
       "    .dataframe tbody tr th:only-of-type {\n",
       "        vertical-align: middle;\n",
       "    }\n",
       "\n",
       "    .dataframe tbody tr th {\n",
       "        vertical-align: top;\n",
       "    }\n",
       "\n",
       "    .dataframe thead th {\n",
       "        text-align: right;\n",
       "    }\n",
       "</style>\n",
       "<table border=\"1\" class=\"dataframe\">\n",
       "  <thead>\n",
       "    <tr style=\"text-align: right;\">\n",
       "      <th></th>\n",
       "      <th>Text</th>\n",
       "      <th>Emotion</th>\n",
       "      <th>_merge</th>\n",
       "    </tr>\n",
       "  </thead>\n",
       "  <tbody>\n",
       "  </tbody>\n",
       "</table>\n",
       "</div>"
      ],
      "text/plain": [
       "Empty DataFrame\n",
       "Columns: [Text, Emotion, _merge]\n",
       "Index: []"
      ]
     },
     "execution_count": 33,
     "metadata": {},
     "output_type": "execute_result"
    }
   ],
   "source": [
    "dataframe_difference(df_val, df_test, which='both')"
   ]
  },
  {
   "cell_type": "markdown",
   "id": "5c81cc23",
   "metadata": {
    "papermill": {
     "duration": 0.0236,
     "end_time": "2024-06-16T19:13:40.782652",
     "exception": false,
     "start_time": "2024-06-16T19:13:40.759052",
     "status": "completed"
    },
    "tags": []
   },
   "source": [
    "### Cleaning"
   ]
  },
  {
   "cell_type": "code",
   "execution_count": 34,
   "id": "f7731702",
   "metadata": {
    "execution": {
     "iopub.execute_input": "2024-06-16T19:13:40.831733Z",
     "iopub.status.busy": "2024-06-16T19:13:40.831240Z",
     "iopub.status.idle": "2024-06-16T19:13:40.845597Z",
     "shell.execute_reply": "2024-06-16T19:13:40.844772Z"
    },
    "papermill": {
     "duration": 0.040787,
     "end_time": "2024-06-16T19:13:40.847415",
     "exception": false,
     "start_time": "2024-06-16T19:13:40.806628",
     "status": "completed"
    },
    "tags": []
   },
   "outputs": [],
   "source": [
    "def lemmatization(text):\n",
    "    lemmatizer= WordNetLemmatizer()\n",
    "\n",
    "    text = text.split()\n",
    "\n",
    "    text=[lemmatizer.lemmatize(y) for y in text]\n",
    "    \n",
    "    return \" \" .join(text)\n",
    "\n",
    "def remove_stop_words(text):\n",
    "\n",
    "    Text=[i for i in str(text).split() if i not in stop_words]\n",
    "    return \" \".join(Text)\n",
    "\n",
    "def Removing_numbers(text):\n",
    "    text=''.join([i for i in text if not i.isdigit()])\n",
    "    return text\n",
    "\n",
    "def lower_case(text):\n",
    "    \n",
    "    text = text.split()\n",
    "\n",
    "    text=[y.lower() for y in text]\n",
    "    \n",
    "    return \" \" .join(text)\n",
    "\n",
    "def Removing_punctuations(text):\n",
    "    ## Remove punctuations\n",
    "    text = re.sub('[%s]' % re.escape(\"\"\"!\"#$%&'()*+,،-./:;<=>؟?@[\\]^_`{|}~\"\"\"), ' ', text)\n",
    "    text = text.replace('؛',\"\", )\n",
    "    \n",
    "    ## remove extra whitespace\n",
    "    text = re.sub('\\s+', ' ', text)\n",
    "    text =  \" \".join(text.split())\n",
    "    return text.strip()\n",
    "\n",
    "def Removing_urls(text):\n",
    "    url_pattern = re.compile(r'https?://\\S+|www\\.\\S+')\n",
    "    return url_pattern.sub(r'', text)\n",
    "\n",
    "def remove_small_sentences(df):\n",
    "    for i in range(len(df)):\n",
    "        if len(df.text.iloc[i].split()) < 3:\n",
    "            df.text.iloc[i] = np.nan\n",
    "            \n",
    "def normalize_text(df):\n",
    "    df.Text=df.Text.apply(lambda text : lower_case(text))\n",
    "    df.Text=df.Text.apply(lambda text : remove_stop_words(text))\n",
    "    df.Text=df.Text.apply(lambda text : Removing_numbers(text))\n",
    "    df.Text=df.Text.apply(lambda text : Removing_punctuations(text))\n",
    "    df.Text=df.Text.apply(lambda text : Removing_urls(text))\n",
    "    df.Text=df.Text.apply(lambda text : lemmatization(text))\n",
    "    return df\n",
    "\n",
    "def normalized_sentence(sentence):\n",
    "    sentence= lower_case(sentence)\n",
    "    sentence= remove_stop_words(sentence)\n",
    "    sentence= Removing_numbers(sentence)\n",
    "    sentence= Removing_punctuations(sentence)\n",
    "    sentence= Removing_urls(sentence)\n",
    "    sentence= lemmatization(sentence)\n",
    "    return sentence"
   ]
  },
  {
   "cell_type": "code",
   "execution_count": 35,
   "id": "aa28ca80",
   "metadata": {
    "execution": {
     "iopub.execute_input": "2024-06-16T19:13:40.895938Z",
     "iopub.status.busy": "2024-06-16T19:13:40.895704Z",
     "iopub.status.idle": "2024-06-16T19:13:43.037785Z",
     "shell.execute_reply": "2024-06-16T19:13:43.036788Z"
    },
    "papermill": {
     "duration": 2.16897,
     "end_time": "2024-06-16T19:13:43.040079",
     "exception": false,
     "start_time": "2024-06-16T19:13:40.871109",
     "status": "completed"
    },
    "tags": []
   },
   "outputs": [
    {
     "data": {
      "text/plain": [
       "'name shaheer tweet play pak'"
      ]
     },
     "execution_count": 35,
     "metadata": {},
     "output_type": "execute_result"
    }
   ],
   "source": [
    "normalized_sentence(\"My Name is Shaheer. @Tweets,  plays 2022  Pak_\")"
   ]
  },
  {
   "cell_type": "code",
   "execution_count": 36,
   "id": "e6f2a748",
   "metadata": {
    "execution": {
     "iopub.execute_input": "2024-06-16T19:13:43.096038Z",
     "iopub.status.busy": "2024-06-16T19:13:43.095345Z",
     "iopub.status.idle": "2024-06-16T19:13:44.855255Z",
     "shell.execute_reply": "2024-06-16T19:13:44.854445Z"
    },
    "papermill": {
     "duration": 1.790171,
     "end_time": "2024-06-16T19:13:44.857524",
     "exception": false,
     "start_time": "2024-06-16T19:13:43.067353",
     "status": "completed"
    },
    "tags": []
   },
   "outputs": [],
   "source": [
    "df_train= normalize_text(df_train)\n",
    "df_test= normalize_text(df_test)\n",
    "df_val= normalize_text(df_val)"
   ]
  },
  {
   "cell_type": "markdown",
   "id": "799ab3e8",
   "metadata": {
    "papermill": {
     "duration": 0.024227,
     "end_time": "2024-06-16T19:13:44.906792",
     "exception": false,
     "start_time": "2024-06-16T19:13:44.882565",
     "status": "completed"
    },
    "tags": []
   },
   "source": [
    "### Modeling"
   ]
  },
  {
   "cell_type": "code",
   "execution_count": 37,
   "id": "e84b9498",
   "metadata": {
    "execution": {
     "iopub.execute_input": "2024-06-16T19:13:44.956102Z",
     "iopub.status.busy": "2024-06-16T19:13:44.955769Z",
     "iopub.status.idle": "2024-06-16T19:13:44.960670Z",
     "shell.execute_reply": "2024-06-16T19:13:44.959817Z"
    },
    "papermill": {
     "duration": 0.031744,
     "end_time": "2024-06-16T19:13:44.962528",
     "exception": false,
     "start_time": "2024-06-16T19:13:44.930784",
     "status": "completed"
    },
    "tags": []
   },
   "outputs": [],
   "source": [
    "#Splitting the text from the labels\n",
    "X_train = df_train['Text']\n",
    "y_train = df_train['Emotion']\n",
    "\n",
    "X_test = df_test['Text']\n",
    "y_test = df_test['Emotion']\n",
    "\n",
    "X_val = df_val['Text']\n",
    "y_val = df_val['Emotion']"
   ]
  },
  {
   "cell_type": "code",
   "execution_count": 38,
   "id": "39df6ef6",
   "metadata": {
    "execution": {
     "iopub.execute_input": "2024-06-16T19:13:45.011472Z",
     "iopub.status.busy": "2024-06-16T19:13:45.011230Z",
     "iopub.status.idle": "2024-06-16T19:13:45.019756Z",
     "shell.execute_reply": "2024-06-16T19:13:45.018857Z"
    },
    "papermill": {
     "duration": 0.03511,
     "end_time": "2024-06-16T19:13:45.021586",
     "exception": false,
     "start_time": "2024-06-16T19:13:44.986476",
     "status": "completed"
    },
    "tags": []
   },
   "outputs": [
    {
     "data": {
      "text/html": [
       "<div>\n",
       "<style scoped>\n",
       "    .dataframe tbody tr th:only-of-type {\n",
       "        vertical-align: middle;\n",
       "    }\n",
       "\n",
       "    .dataframe tbody tr th {\n",
       "        vertical-align: top;\n",
       "    }\n",
       "\n",
       "    .dataframe thead th {\n",
       "        text-align: right;\n",
       "    }\n",
       "</style>\n",
       "<table border=\"1\" class=\"dataframe\">\n",
       "  <thead>\n",
       "    <tr style=\"text-align: right;\">\n",
       "      <th></th>\n",
       "      <th>Emotion</th>\n",
       "    </tr>\n",
       "  </thead>\n",
       "  <tbody>\n",
       "    <tr>\n",
       "      <th>0</th>\n",
       "      <td>sadness</td>\n",
       "    </tr>\n",
       "    <tr>\n",
       "      <th>1</th>\n",
       "      <td>sadness</td>\n",
       "    </tr>\n",
       "    <tr>\n",
       "      <th>2</th>\n",
       "      <td>anger</td>\n",
       "    </tr>\n",
       "    <tr>\n",
       "      <th>3</th>\n",
       "      <td>love</td>\n",
       "    </tr>\n",
       "    <tr>\n",
       "      <th>4</th>\n",
       "      <td>anger</td>\n",
       "    </tr>\n",
       "  </tbody>\n",
       "</table>\n",
       "</div>"
      ],
      "text/plain": [
       "   Emotion\n",
       "0  sadness\n",
       "1  sadness\n",
       "2    anger\n",
       "3     love\n",
       "4    anger"
      ]
     },
     "execution_count": 38,
     "metadata": {},
     "output_type": "execute_result"
    }
   ],
   "source": [
    "\n",
    "labels = pd.DataFrame(df_train['Emotion'])\n",
    "labels.head()"
   ]
  },
  {
   "cell_type": "code",
   "execution_count": 39,
   "id": "3fd3026c",
   "metadata": {
    "execution": {
     "iopub.execute_input": "2024-06-16T19:13:45.070692Z",
     "iopub.status.busy": "2024-06-16T19:13:45.070456Z",
     "iopub.status.idle": "2024-06-16T19:13:45.087437Z",
     "shell.execute_reply": "2024-06-16T19:13:45.086771Z"
    },
    "papermill": {
     "duration": 0.043609,
     "end_time": "2024-06-16T19:13:45.089267",
     "exception": false,
     "start_time": "2024-06-16T19:13:45.045658",
     "status": "completed"
    },
    "tags": []
   },
   "outputs": [],
   "source": [
    "labels.to_csv('labels.csv',index=False)"
   ]
  },
  {
   "cell_type": "code",
   "execution_count": 40,
   "id": "bc53b5b0",
   "metadata": {
    "execution": {
     "iopub.execute_input": "2024-06-16T19:13:45.139899Z",
     "iopub.status.busy": "2024-06-16T19:13:45.139663Z",
     "iopub.status.idle": "2024-06-16T19:13:45.149308Z",
     "shell.execute_reply": "2024-06-16T19:13:45.148658Z"
    },
    "papermill": {
     "duration": 0.036325,
     "end_time": "2024-06-16T19:13:45.151161",
     "exception": false,
     "start_time": "2024-06-16T19:13:45.114836",
     "status": "completed"
    },
    "tags": []
   },
   "outputs": [],
   "source": [
    "# Encode labels\n",
    "le = LabelEncoder()\n",
    "encoder = le.fit(y_train)\n",
    "y_train = encoder.transform(y_train)\n",
    "y_test = le.transform(y_test)\n",
    "y_val = le.transform(y_val)"
   ]
  },
  {
   "cell_type": "code",
   "execution_count": 41,
   "id": "47e1837a",
   "metadata": {
    "execution": {
     "iopub.execute_input": "2024-06-16T19:13:45.201272Z",
     "iopub.status.busy": "2024-06-16T19:13:45.201008Z",
     "iopub.status.idle": "2024-06-16T19:13:45.207933Z",
     "shell.execute_reply": "2024-06-16T19:13:45.207131Z"
    },
    "papermill": {
     "duration": 0.034268,
     "end_time": "2024-06-16T19:13:45.209882",
     "exception": false,
     "start_time": "2024-06-16T19:13:45.175614",
     "status": "completed"
    },
    "tags": []
   },
   "outputs": [
    {
     "name": "stdout",
     "output_type": "stream",
     "text": [
      "{0, 1, 2, 3, 4, 5}\n"
     ]
    }
   ],
   "source": [
    "#print the labels after encoding \n",
    "print(set(y_train))\n"
   ]
  },
  {
   "cell_type": "code",
   "execution_count": 42,
   "id": "4d99af4f",
   "metadata": {
    "execution": {
     "iopub.execute_input": "2024-06-16T19:13:45.259411Z",
     "iopub.status.busy": "2024-06-16T19:13:45.259160Z",
     "iopub.status.idle": "2024-06-16T19:13:45.263863Z",
     "shell.execute_reply": "2024-06-16T19:13:45.263194Z"
    },
    "papermill": {
     "duration": 0.031851,
     "end_time": "2024-06-16T19:13:45.265855",
     "exception": false,
     "start_time": "2024-06-16T19:13:45.234004",
     "status": "completed"
    },
    "tags": []
   },
   "outputs": [],
   "source": [
    "#Convert the class vector (integers) to binary class matrix\n",
    "y_train = to_categorical(y_train)\n",
    "y_test = to_categorical(y_test)\n",
    "y_val = to_categorical(y_val)"
   ]
  },
  {
   "cell_type": "code",
   "execution_count": 43,
   "id": "6045f148",
   "metadata": {
    "execution": {
     "iopub.execute_input": "2024-06-16T19:13:45.316064Z",
     "iopub.status.busy": "2024-06-16T19:13:45.315832Z",
     "iopub.status.idle": "2024-06-16T19:13:45.320033Z",
     "shell.execute_reply": "2024-06-16T19:13:45.319380Z"
    },
    "papermill": {
     "duration": 0.030997,
     "end_time": "2024-06-16T19:13:45.321864",
     "exception": false,
     "start_time": "2024-06-16T19:13:45.290867",
     "status": "completed"
    },
    "tags": []
   },
   "outputs": [],
   "source": [
    "import pickle\n",
    "with open('label_encoder.pkl', 'wb') as handle:\n",
    "    pickle.dump(le, handle, protocol=pickle.HIGHEST_PROTOCOL)"
   ]
  },
  {
   "cell_type": "code",
   "execution_count": 44,
   "id": "d3314888",
   "metadata": {
    "execution": {
     "iopub.execute_input": "2024-06-16T19:13:45.371358Z",
     "iopub.status.busy": "2024-06-16T19:13:45.371084Z",
     "iopub.status.idle": "2024-06-16T19:13:45.375941Z",
     "shell.execute_reply": "2024-06-16T19:13:45.375096Z"
    },
    "papermill": {
     "duration": 0.031994,
     "end_time": "2024-06-16T19:13:45.378064",
     "exception": false,
     "start_time": "2024-06-16T19:13:45.346070",
     "status": "completed"
    },
    "tags": []
   },
   "outputs": [
    {
     "name": "stdout",
     "output_type": "stream",
     "text": [
      "[[0. 0. 0. 0. 1. 0.]\n",
      " [0. 0. 0. 0. 1. 0.]\n",
      " [1. 0. 0. 0. 0. 0.]\n",
      " ...\n",
      " [0. 0. 1. 0. 0. 0.]\n",
      " [1. 0. 0. 0. 0. 0.]\n",
      " [0. 0. 0. 0. 1. 0.]]\n"
     ]
    }
   ],
   "source": [
    "print(y_train)"
   ]
  },
  {
   "cell_type": "markdown",
   "id": "c3e438e9",
   "metadata": {
    "papermill": {
     "duration": 0.024232,
     "end_time": "2024-06-16T19:13:45.428291",
     "exception": false,
     "start_time": "2024-06-16T19:13:45.404059",
     "status": "completed"
    },
    "tags": []
   },
   "source": [
    "### Tokenizing"
   ]
  },
  {
   "cell_type": "code",
   "execution_count": 45,
   "id": "27e3b511",
   "metadata": {
    "execution": {
     "iopub.execute_input": "2024-06-16T19:13:45.477984Z",
     "iopub.status.busy": "2024-06-16T19:13:45.477721Z",
     "iopub.status.idle": "2024-06-16T19:13:45.788587Z",
     "shell.execute_reply": "2024-06-16T19:13:45.787682Z"
    },
    "papermill": {
     "duration": 0.338188,
     "end_time": "2024-06-16T19:13:45.790635",
     "exception": false,
     "start_time": "2024-06-16T19:13:45.452447",
     "status": "completed"
    },
    "tags": []
   },
   "outputs": [],
   "source": [
    "# Tokenize words\n",
    "tokenizer = Tokenizer(oov_token='UNK')\n",
    "tokenizer.fit_on_texts(pd.concat([X_train, X_test], axis=0))"
   ]
  },
  {
   "cell_type": "code",
   "execution_count": 46,
   "id": "d11f74c3",
   "metadata": {
    "execution": {
     "iopub.execute_input": "2024-06-16T19:13:45.840815Z",
     "iopub.status.busy": "2024-06-16T19:13:45.840553Z",
     "iopub.status.idle": "2024-06-16T19:13:45.845740Z",
     "shell.execute_reply": "2024-06-16T19:13:45.844907Z"
    },
    "papermill": {
     "duration": 0.032225,
     "end_time": "2024-06-16T19:13:45.847641",
     "exception": false,
     "start_time": "2024-06-16T19:13:45.815416",
     "status": "completed"
    },
    "tags": []
   },
   "outputs": [
    {
     "data": {
      "text/plain": [
       "17969"
      ]
     },
     "execution_count": 46,
     "metadata": {},
     "output_type": "execute_result"
    }
   ],
   "source": [
    "#document count: A dictionary of words and how many documents each appeared in.\n",
    "#in this dataset the output will be the number of rows\n",
    "tokenizer.document_count"
   ]
  },
  {
   "cell_type": "code",
   "execution_count": 47,
   "id": "4320745e",
   "metadata": {
    "execution": {
     "iopub.execute_input": "2024-06-16T19:13:45.897530Z",
     "iopub.status.busy": "2024-06-16T19:13:45.897277Z",
     "iopub.status.idle": "2024-06-16T19:13:45.902953Z",
     "shell.execute_reply": "2024-06-16T19:13:45.902097Z"
    },
    "papermill": {
     "duration": 0.032925,
     "end_time": "2024-06-16T19:13:45.904863",
     "exception": false,
     "start_time": "2024-06-16T19:13:45.871938",
     "status": "completed"
    },
    "tags": []
   },
   "outputs": [
    {
     "data": {
      "text/plain": [
       "[[53], [2], [531]]"
      ]
     },
     "execution_count": 47,
     "metadata": {},
     "output_type": "execute_result"
    }
   ],
   "source": [
    "#converting a single sentence to list of indexes\n",
    "tokenizer.texts_to_sequences(X_train[0].split())"
   ]
  },
  {
   "cell_type": "code",
   "execution_count": 48,
   "id": "cccd5013",
   "metadata": {
    "execution": {
     "iopub.execute_input": "2024-06-16T19:13:45.954856Z",
     "iopub.status.busy": "2024-06-16T19:13:45.954614Z",
     "iopub.status.idle": "2024-06-16T19:13:45.960454Z",
     "shell.execute_reply": "2024-06-16T19:13:45.959665Z"
    },
    "papermill": {
     "duration": 0.032959,
     "end_time": "2024-06-16T19:13:45.962220",
     "exception": false,
     "start_time": "2024-06-16T19:13:45.929261",
     "status": "completed"
    },
    "tags": []
   },
   "outputs": [
    {
     "data": {
      "text/plain": [
       "array([[0., 0., 0., ..., 0., 0., 0.],\n",
       "       [0., 0., 1., ..., 0., 0., 0.],\n",
       "       [0., 0., 0., ..., 0., 0., 0.]])"
      ]
     },
     "execution_count": 48,
     "metadata": {},
     "output_type": "execute_result"
    }
   ],
   "source": [
    "#convert the list of indexes into a matrix of ones and zeros (BOW)\n",
    "tokenizer.texts_to_matrix(X_train[0].split())"
   ]
  },
  {
   "cell_type": "code",
   "execution_count": 49,
   "id": "fa3e9d58",
   "metadata": {
    "execution": {
     "iopub.execute_input": "2024-06-16T19:13:46.012534Z",
     "iopub.status.busy": "2024-06-16T19:13:46.012271Z",
     "iopub.status.idle": "2024-06-16T19:13:46.017950Z",
     "shell.execute_reply": "2024-06-16T19:13:46.017146Z"
    },
    "papermill": {
     "duration": 0.032967,
     "end_time": "2024-06-16T19:13:46.019862",
     "exception": false,
     "start_time": "2024-06-16T19:13:45.986895",
     "status": "completed"
    },
    "tags": []
   },
   "outputs": [
    {
     "data": {
      "text/plain": [
       "(3, 14325)"
      ]
     },
     "execution_count": 49,
     "metadata": {},
     "output_type": "execute_result"
    }
   ],
   "source": [
    "#the sentence contains three words and the size of the vocabulary is 14325\n",
    "tokenizer.texts_to_matrix(X_train[0].split()).shape"
   ]
  },
  {
   "cell_type": "code",
   "execution_count": 50,
   "id": "f084ffd7",
   "metadata": {
    "execution": {
     "iopub.execute_input": "2024-06-16T19:13:46.070247Z",
     "iopub.status.busy": "2024-06-16T19:13:46.069955Z",
     "iopub.status.idle": "2024-06-16T19:13:46.347012Z",
     "shell.execute_reply": "2024-06-16T19:13:46.346284Z"
    },
    "papermill": {
     "duration": 0.304393,
     "end_time": "2024-06-16T19:13:46.348946",
     "exception": false,
     "start_time": "2024-06-16T19:13:46.044553",
     "status": "completed"
    },
    "tags": []
   },
   "outputs": [],
   "source": [
    "sequences_train = tokenizer.texts_to_sequences(X_train)\n",
    "sequences_test = tokenizer.texts_to_sequences(X_test)\n",
    "sequences_val = tokenizer.texts_to_sequences(X_val)"
   ]
  },
  {
   "cell_type": "markdown",
   "id": "e8194cae",
   "metadata": {
    "papermill": {
     "duration": 0.024926,
     "end_time": "2024-06-16T19:13:46.399127",
     "exception": false,
     "start_time": "2024-06-16T19:13:46.374201",
     "status": "completed"
    },
    "tags": []
   },
   "source": [
    "### Padding\n",
    "The vectors we obtain are generally not of equal lengths\n",
    "\n",
    "For that, we might need to pad the sequences to max len"
   ]
  },
  {
   "cell_type": "code",
   "execution_count": 51,
   "id": "0879e85b",
   "metadata": {
    "execution": {
     "iopub.execute_input": "2024-06-16T19:13:46.450382Z",
     "iopub.status.busy": "2024-06-16T19:13:46.450058Z",
     "iopub.status.idle": "2024-06-16T19:13:46.455438Z",
     "shell.execute_reply": "2024-06-16T19:13:46.454572Z"
    },
    "papermill": {
     "duration": 0.033288,
     "end_time": "2024-06-16T19:13:46.457278",
     "exception": false,
     "start_time": "2024-06-16T19:13:46.423990",
     "status": "completed"
    },
    "tags": []
   },
   "outputs": [
    {
     "data": {
      "text/plain": [
       "(2000, 2)"
      ]
     },
     "execution_count": 51,
     "metadata": {},
     "output_type": "execute_result"
    }
   ],
   "source": [
    "df_test.shape"
   ]
  },
  {
   "cell_type": "code",
   "execution_count": 52,
   "id": "1b9d8011",
   "metadata": {
    "execution": {
     "iopub.execute_input": "2024-06-16T19:13:46.508068Z",
     "iopub.status.busy": "2024-06-16T19:13:46.507808Z",
     "iopub.status.idle": "2024-06-16T19:13:46.516448Z",
     "shell.execute_reply": "2024-06-16T19:13:46.515576Z"
    },
    "papermill": {
     "duration": 0.035953,
     "end_time": "2024-06-16T19:13:46.518218",
     "exception": false,
     "start_time": "2024-06-16T19:13:46.482265",
     "status": "completed"
    },
    "tags": []
   },
   "outputs": [
    {
     "data": {
      "text/plain": [
       "229"
      ]
     },
     "execution_count": 52,
     "metadata": {},
     "output_type": "execute_result"
    }
   ],
   "source": [
    "maxlen = max([len(t) for t in df_train['Text']])\n",
    "maxlen"
   ]
  },
  {
   "cell_type": "code",
   "execution_count": 53,
   "id": "e93f4cb4",
   "metadata": {
    "execution": {
     "iopub.execute_input": "2024-06-16T19:13:46.570294Z",
     "iopub.status.busy": "2024-06-16T19:13:46.569582Z",
     "iopub.status.idle": "2024-06-16T19:13:46.658729Z",
     "shell.execute_reply": "2024-06-16T19:13:46.657865Z"
    },
    "papermill": {
     "duration": 0.116995,
     "end_time": "2024-06-16T19:13:46.660547",
     "exception": false,
     "start_time": "2024-06-16T19:13:46.543552",
     "status": "completed"
    },
    "tags": []
   },
   "outputs": [
    {
     "name": "stdout",
     "output_type": "stream",
     "text": [
      "Vocabulary size = 14325\n"
     ]
    }
   ],
   "source": [
    "X_train = pad_sequences(sequences_train, maxlen=229, truncating='pre')\n",
    "X_test = pad_sequences(sequences_test, maxlen=229, truncating='pre')\n",
    "X_val = pad_sequences(sequences_val, maxlen=229, truncating='pre')\n",
    "\n",
    "vocabSize = len(tokenizer.index_word) + 1\n",
    "print(f\"Vocabulary size = {vocabSize}\")"
   ]
  },
  {
   "cell_type": "code",
   "execution_count": 54,
   "id": "ea2494ba",
   "metadata": {
    "execution": {
     "iopub.execute_input": "2024-06-16T19:13:46.714702Z",
     "iopub.status.busy": "2024-06-16T19:13:46.714438Z",
     "iopub.status.idle": "2024-06-16T19:13:46.719766Z",
     "shell.execute_reply": "2024-06-16T19:13:46.718978Z"
    },
    "papermill": {
     "duration": 0.033409,
     "end_time": "2024-06-16T19:13:46.721528",
     "exception": false,
     "start_time": "2024-06-16T19:13:46.688119",
     "status": "completed"
    },
    "tags": []
   },
   "outputs": [
    {
     "data": {
      "text/plain": [
       "[53, 2, 531]"
      ]
     },
     "execution_count": 54,
     "metadata": {},
     "output_type": "execute_result"
    }
   ],
   "source": [
    "#before\n",
    "sequences_train[0]"
   ]
  },
  {
   "cell_type": "code",
   "execution_count": 55,
   "id": "e8beb0e1",
   "metadata": {
    "execution": {
     "iopub.execute_input": "2024-06-16T19:13:46.773178Z",
     "iopub.status.busy": "2024-06-16T19:13:46.772923Z",
     "iopub.status.idle": "2024-06-16T19:13:46.778877Z",
     "shell.execute_reply": "2024-06-16T19:13:46.777995Z"
    },
    "papermill": {
     "duration": 0.033735,
     "end_time": "2024-06-16T19:13:46.780713",
     "exception": false,
     "start_time": "2024-06-16T19:13:46.746978",
     "status": "completed"
    },
    "tags": []
   },
   "outputs": [
    {
     "data": {
      "text/plain": [
       "array([  0,   0,   0,   0,   0,   0,   0,   0,   0,   0,   0,   0,   0,\n",
       "         0,   0,   0,   0,   0,   0,   0,   0,   0,   0,   0,   0,   0,\n",
       "         0,   0,   0,   0,   0,   0,   0,   0,   0,   0,   0,   0,   0,\n",
       "         0,   0,   0,   0,   0,   0,   0,   0,   0,   0,   0,   0,   0,\n",
       "         0,   0,   0,   0,   0,   0,   0,   0,   0,   0,   0,   0,   0,\n",
       "         0,   0,   0,   0,   0,   0,   0,   0,   0,   0,   0,   0,   0,\n",
       "         0,   0,   0,   0,   0,   0,   0,   0,   0,   0,   0,   0,   0,\n",
       "         0,   0,   0,   0,   0,   0,   0,   0,   0,   0,   0,   0,   0,\n",
       "         0,   0,   0,   0,   0,   0,   0,   0,   0,   0,   0,   0,   0,\n",
       "         0,   0,   0,   0,   0,   0,   0,   0,   0,   0,   0,   0,   0,\n",
       "         0,   0,   0,   0,   0,   0,   0,   0,   0,   0,   0,   0,   0,\n",
       "         0,   0,   0,   0,   0,   0,   0,   0,   0,   0,   0,   0,   0,\n",
       "         0,   0,   0,   0,   0,   0,   0,   0,   0,   0,   0,   0,   0,\n",
       "         0,   0,   0,   0,   0,   0,   0,   0,   0,   0,   0,   0,   0,\n",
       "         0,   0,   0,   0,   0,   0,   0,   0,   0,   0,   0,   0,   0,\n",
       "         0,   0,   0,   0,   0,   0,   0,   0,   0,   0,   0,   0,   0,\n",
       "         0,   0,   0,   0,   0,   0,   0,   0,   0,   0,   0,   0,   0,\n",
       "         0,   0,   0,   0,   0,  53,   2, 531], dtype=int32)"
      ]
     },
     "execution_count": 55,
     "metadata": {},
     "output_type": "execute_result"
    }
   ],
   "source": [
    "#after\n",
    "X_train[0]"
   ]
  },
  {
   "cell_type": "markdown",
   "id": "5d128d57",
   "metadata": {
    "papermill": {
     "duration": 0.025276,
     "end_time": "2024-06-16T19:13:46.831661",
     "exception": false,
     "start_time": "2024-06-16T19:13:46.806385",
     "status": "completed"
    },
    "tags": []
   },
   "source": [
    "## Word Embedding\n",
    "\n",
    "\n",
    "\n",
    "\n",
    "\n",
    "\n",
    "**This code defines the following variables**:\n",
    "\n",
    "**path_to_glove_file**: The file path to the GloVe word vectors file.\n",
    "\n",
    "**num_tokens**: The size of the vocabulary. This is typically the number of unique words in the dataset.\n",
    "\n",
    "**embedding_dim**: The dimensionality of the word vectors. This is usually set to a fixed value (e.g., 200, 300, etc.) depending on the size of the word vectors file that is being used.\n",
    "\n",
    "**hits**: A counter for the number of words that are found in the embeddings_index dictionary.\n",
    "\n",
    "**misses**: A counter for the number of words that are not found in the embeddings_index dictionary.\n",
    "\n",
    "**embeddings_index**: A dictionary that will store the word vectors, with the words as keys and the word vectors as values."
   ]
  },
  {
   "cell_type": "code",
   "execution_count": 56,
   "id": "08996d9b",
   "metadata": {
    "execution": {
     "iopub.execute_input": "2024-06-16T19:13:46.883198Z",
     "iopub.status.busy": "2024-06-16T19:13:46.882939Z",
     "iopub.status.idle": "2024-06-16T19:13:46.887129Z",
     "shell.execute_reply": "2024-06-16T19:13:46.886376Z"
    },
    "papermill": {
     "duration": 0.032111,
     "end_time": "2024-06-16T19:13:46.888995",
     "exception": false,
     "start_time": "2024-06-16T19:13:46.856884",
     "status": "completed"
    },
    "tags": []
   },
   "outputs": [],
   "source": [
    "# Read GloVE embeddings\n",
    "\n",
    "path_to_glove_file = '/kaggle/input/glove-global-vectors-for-word-representation/glove.6B.200d.txt'\n",
    "num_tokens = vocabSize\n",
    "embedding_dim = 200 #latent factors or features  \n",
    "hits = 0\n",
    "misses = 0\n",
    "embeddings_index = {}"
   ]
  },
  {
   "cell_type": "markdown",
   "id": "92daf175",
   "metadata": {
    "papermill": {
     "duration": 0.025157,
     "end_time": "2024-06-16T19:13:46.939440",
     "exception": false,
     "start_time": "2024-06-16T19:13:46.914283",
     "status": "completed"
    },
    "tags": []
   },
   "source": [
    "I will intialize an embedding matrix with all zero values and then looping through the vocabulary (as defined by the tokenizer object) to assign word vectors to the corresponding rows of the embedding matrix. The word_index attribute of the tokenizer object is a dictionary that maps words to their indices in the vocabulary.\n",
    "\n",
    "The embedding matrix will have a size of num_tokens rows and embedding_dim columns, where num_tokens is the size of the vocabulary and embedding_dim is the dimensionality of the word vectors.\n",
    "\n",
    "For each word in the vocabulary, the code looks up the corresponding word vector in the embeddings_index dictionary and assigns it to the corresponding row of the embedding matrix. If the word is not found in the embeddings_index dictionary (i.e., if embedding_vector is None), the code increments the misses counter and the row of the embedding matrix remains all-zeros. If the word is found in the embeddings_index dictionary, the code increments the hits counter and assigns the word vector to the corresponding row of the embedding matrix. Finally, the code prints out the number of words that were converted (hits) and the number that were not found in the embeddings_index dictionary (misses)."
   ]
  },
  {
   "cell_type": "code",
   "execution_count": 57,
   "id": "4d15572d",
   "metadata": {
    "execution": {
     "iopub.execute_input": "2024-06-16T19:13:46.991268Z",
     "iopub.status.busy": "2024-06-16T19:13:46.990981Z",
     "iopub.status.idle": "2024-06-16T19:14:11.663536Z",
     "shell.execute_reply": "2024-06-16T19:14:11.662484Z"
    },
    "papermill": {
     "duration": 24.700871,
     "end_time": "2024-06-16T19:14:11.665596",
     "exception": false,
     "start_time": "2024-06-16T19:13:46.964725",
     "status": "completed"
    },
    "tags": []
   },
   "outputs": [
    {
     "name": "stdout",
     "output_type": "stream",
     "text": [
      "Found 400000 word vectors.\n",
      "Converted 13243 words (1081 misses)\n"
     ]
    }
   ],
   "source": [
    "# Read word vectors\n",
    "with open(path_to_glove_file) as f:\n",
    "    for line in f:\n",
    "        word, coefs = line.split(maxsplit=1)\n",
    "        coefs = np.fromstring(coefs, \"f\", sep=\" \")\n",
    "        embeddings_index[word] = coefs\n",
    "print(\"Found %s word vectors.\" % len(embeddings_index))\n",
    "\n",
    "# Assign word vectors to our dictionary/vocabulary\n",
    "embedding_matrix = np.zeros((num_tokens, embedding_dim))\n",
    "for word, i in tokenizer.word_index.items():\n",
    "    embedding_vector = embeddings_index.get(word)\n",
    "    if embedding_vector is not None:\n",
    "        # Words not found in embedding index will be all-zeros.\n",
    "        # This includes the representation for \"padding\" and \"OOV\"\n",
    "        embedding_matrix[i] = embedding_vector\n",
    "        hits += 1\n",
    "    else:\n",
    "        misses += 1\n",
    "print(\"Converted %d words (%d misses)\" % (hits, misses))"
   ]
  },
  {
   "cell_type": "code",
   "execution_count": 58,
   "id": "113f4fd2",
   "metadata": {
    "execution": {
     "iopub.execute_input": "2024-06-16T19:14:11.718597Z",
     "iopub.status.busy": "2024-06-16T19:14:11.718042Z",
     "iopub.status.idle": "2024-06-16T19:14:11.732275Z",
     "shell.execute_reply": "2024-06-16T19:14:11.731549Z"
    },
    "papermill": {
     "duration": 0.04245,
     "end_time": "2024-06-16T19:14:11.734064",
     "exception": false,
     "start_time": "2024-06-16T19:14:11.691614",
     "status": "completed"
    },
    "tags": []
   },
   "outputs": [],
   "source": [
    "with open('tokenizer.pkl', 'wb') as handle:\n",
    "    pickle.dump(tokenizer, handle, protocol=pickle.HIGHEST_PROTOCOL)"
   ]
  },
  {
   "cell_type": "markdown",
   "id": "a525e908",
   "metadata": {
    "papermill": {
     "duration": 0.025639,
     "end_time": "2024-06-16T19:14:11.785346",
     "exception": false,
     "start_time": "2024-06-16T19:14:11.759707",
     "status": "completed"
    },
    "tags": []
   },
   "source": [
    "### Modeling\n",
    "\n",
    "The model consists of several layers:\n",
    "\n",
    "An **Embedding layer** that takes in integer-encoded text and looks up the embedding vector for each word in the input. The input length is set to the length of the input sequences, and the weights are initialized with an embedding matrix that has been pre-trained on a large dataset. The embedding layer is not trainable, meaning that the weights of this layer will not be updated during training.\n",
    "\n",
    "**Three Bidirectional layers**, each of which applies a forward and backward LSTM to the input. LSTMs are a type of recurrent neural network that are able to capture long-term dependencies in sequential data. The dropout and recurrent dropout arguments specify the dropout rate to apply to the inputs and recurrent inputs of the LSTMs, respectively. The return_sequences argument specifies whether the LSTM should return the full sequences of outputs or just the last output of each sequence.\n",
    "\n",
    "A **Dense layer** that applies a linear transformation to the input to produce the output. The output has 6 units and uses the 'softmax' activation function, which means that it will output a probability distribution over the 6 classes."
   ]
  },
  {
   "cell_type": "code",
   "execution_count": 59,
   "id": "692d2bce",
   "metadata": {
    "execution": {
     "iopub.execute_input": "2024-06-16T19:14:11.837497Z",
     "iopub.status.busy": "2024-06-16T19:14:11.836983Z",
     "iopub.status.idle": "2024-06-16T19:14:12.733556Z",
     "shell.execute_reply": "2024-06-16T19:14:12.732759Z"
    },
    "papermill": {
     "duration": 0.924642,
     "end_time": "2024-06-16T19:14:12.735537",
     "exception": false,
     "start_time": "2024-06-16T19:14:11.810895",
     "status": "completed"
    },
    "tags": []
   },
   "outputs": [
    {
     "name": "stderr",
     "output_type": "stream",
     "text": [
      "/opt/conda/lib/python3.10/site-packages/keras/src/layers/core/embedding.py:90: UserWarning: Argument `input_length` is deprecated. Just remove it.\n",
      "  warnings.warn(\n"
     ]
    },
    {
     "data": {
      "text/html": [
       "<pre style=\"white-space:pre;overflow-x:auto;line-height:normal;font-family:Menlo,'DejaVu Sans Mono',consolas,'Courier New',monospace\"><span style=\"font-weight: bold\">Model: \"sequential\"</span>\n",
       "</pre>\n"
      ],
      "text/plain": [
       "\u001b[1mModel: \"sequential\"\u001b[0m\n"
      ]
     },
     "metadata": {},
     "output_type": "display_data"
    },
    {
     "data": {
      "text/html": [
       "<pre style=\"white-space:pre;overflow-x:auto;line-height:normal;font-family:Menlo,'DejaVu Sans Mono',consolas,'Courier New',monospace\">┏━━━━━━━━━━━━━━━━━━━━━━━━━━━━━━━━━┳━━━━━━━━━━━━━━━━━━━━━━━━┳━━━━━━━━━━━━━━━┓\n",
       "┃<span style=\"font-weight: bold\"> Layer (type)                    </span>┃<span style=\"font-weight: bold\"> Output Shape           </span>┃<span style=\"font-weight: bold\">       Param # </span>┃\n",
       "┡━━━━━━━━━━━━━━━━━━━━━━━━━━━━━━━━━╇━━━━━━━━━━━━━━━━━━━━━━━━╇━━━━━━━━━━━━━━━┩\n",
       "│ embedding (<span style=\"color: #0087ff; text-decoration-color: #0087ff\">Embedding</span>)           │ ?                      │     <span style=\"color: #00af00; text-decoration-color: #00af00\">2,865,000</span> │\n",
       "├─────────────────────────────────┼────────────────────────┼───────────────┤\n",
       "│ bidirectional (<span style=\"color: #0087ff; text-decoration-color: #0087ff\">Bidirectional</span>)   │ ?                      │   <span style=\"color: #00af00; text-decoration-color: #00af00\">0</span> (unbuilt) │\n",
       "├─────────────────────────────────┼────────────────────────┼───────────────┤\n",
       "│ bidirectional_1 (<span style=\"color: #0087ff; text-decoration-color: #0087ff\">Bidirectional</span>) │ ?                      │   <span style=\"color: #00af00; text-decoration-color: #00af00\">0</span> (unbuilt) │\n",
       "├─────────────────────────────────┼────────────────────────┼───────────────┤\n",
       "│ bidirectional_2 (<span style=\"color: #0087ff; text-decoration-color: #0087ff\">Bidirectional</span>) │ ?                      │   <span style=\"color: #00af00; text-decoration-color: #00af00\">0</span> (unbuilt) │\n",
       "├─────────────────────────────────┼────────────────────────┼───────────────┤\n",
       "│ dense (<span style=\"color: #0087ff; text-decoration-color: #0087ff\">Dense</span>)                   │ ?                      │   <span style=\"color: #00af00; text-decoration-color: #00af00\">0</span> (unbuilt) │\n",
       "└─────────────────────────────────┴────────────────────────┴───────────────┘\n",
       "</pre>\n"
      ],
      "text/plain": [
       "┏━━━━━━━━━━━━━━━━━━━━━━━━━━━━━━━━━┳━━━━━━━━━━━━━━━━━━━━━━━━┳━━━━━━━━━━━━━━━┓\n",
       "┃\u001b[1m \u001b[0m\u001b[1mLayer (type)                   \u001b[0m\u001b[1m \u001b[0m┃\u001b[1m \u001b[0m\u001b[1mOutput Shape          \u001b[0m\u001b[1m \u001b[0m┃\u001b[1m \u001b[0m\u001b[1m      Param #\u001b[0m\u001b[1m \u001b[0m┃\n",
       "┡━━━━━━━━━━━━━━━━━━━━━━━━━━━━━━━━━╇━━━━━━━━━━━━━━━━━━━━━━━━╇━━━━━━━━━━━━━━━┩\n",
       "│ embedding (\u001b[38;5;33mEmbedding\u001b[0m)           │ ?                      │     \u001b[38;5;34m2,865,000\u001b[0m │\n",
       "├─────────────────────────────────┼────────────────────────┼───────────────┤\n",
       "│ bidirectional (\u001b[38;5;33mBidirectional\u001b[0m)   │ ?                      │   \u001b[38;5;34m0\u001b[0m (unbuilt) │\n",
       "├─────────────────────────────────┼────────────────────────┼───────────────┤\n",
       "│ bidirectional_1 (\u001b[38;5;33mBidirectional\u001b[0m) │ ?                      │   \u001b[38;5;34m0\u001b[0m (unbuilt) │\n",
       "├─────────────────────────────────┼────────────────────────┼───────────────┤\n",
       "│ bidirectional_2 (\u001b[38;5;33mBidirectional\u001b[0m) │ ?                      │   \u001b[38;5;34m0\u001b[0m (unbuilt) │\n",
       "├─────────────────────────────────┼────────────────────────┼───────────────┤\n",
       "│ dense (\u001b[38;5;33mDense\u001b[0m)                   │ ?                      │   \u001b[38;5;34m0\u001b[0m (unbuilt) │\n",
       "└─────────────────────────────────┴────────────────────────┴───────────────┘\n"
      ]
     },
     "metadata": {},
     "output_type": "display_data"
    },
    {
     "data": {
      "text/html": [
       "<pre style=\"white-space:pre;overflow-x:auto;line-height:normal;font-family:Menlo,'DejaVu Sans Mono',consolas,'Courier New',monospace\"><span style=\"font-weight: bold\"> Total params: </span><span style=\"color: #00af00; text-decoration-color: #00af00\">2,865,000</span> (10.93 MB)\n",
       "</pre>\n"
      ],
      "text/plain": [
       "\u001b[1m Total params: \u001b[0m\u001b[38;5;34m2,865,000\u001b[0m (10.93 MB)\n"
      ]
     },
     "metadata": {},
     "output_type": "display_data"
    },
    {
     "data": {
      "text/html": [
       "<pre style=\"white-space:pre;overflow-x:auto;line-height:normal;font-family:Menlo,'DejaVu Sans Mono',consolas,'Courier New',monospace\"><span style=\"font-weight: bold\"> Trainable params: </span><span style=\"color: #00af00; text-decoration-color: #00af00\">0</span> (0.00 B)\n",
       "</pre>\n"
      ],
      "text/plain": [
       "\u001b[1m Trainable params: \u001b[0m\u001b[38;5;34m0\u001b[0m (0.00 B)\n"
      ]
     },
     "metadata": {},
     "output_type": "display_data"
    },
    {
     "data": {
      "text/html": [
       "<pre style=\"white-space:pre;overflow-x:auto;line-height:normal;font-family:Menlo,'DejaVu Sans Mono',consolas,'Courier New',monospace\"><span style=\"font-weight: bold\"> Non-trainable params: </span><span style=\"color: #00af00; text-decoration-color: #00af00\">2,865,000</span> (10.93 MB)\n",
       "</pre>\n"
      ],
      "text/plain": [
       "\u001b[1m Non-trainable params: \u001b[0m\u001b[38;5;34m2,865,000\u001b[0m (10.93 MB)\n"
      ]
     },
     "metadata": {},
     "output_type": "display_data"
    }
   ],
   "source": [
    "# Build neural network architecture\n",
    "\n",
    "adam = Adam(learning_rate=0.005)\n",
    "\n",
    "model = Sequential()\n",
    "model.add(Embedding(vocabSize, 200, input_length=X_train.shape[1], weights=[embedding_matrix], trainable=False))\n",
    "model.add(Bidirectional(LSTM(256, dropout=0.2,recurrent_dropout=0.2, return_sequences=True)))\n",
    "model.add(Bidirectional(LSTM(128, dropout=0.2,recurrent_dropout=0.2, return_sequences=True)))\n",
    "model.add(Bidirectional(LSTM(128, dropout=0.2,recurrent_dropout=0.2)))\n",
    "model.add(Dense(6, activation='softmax'))\n",
    "\n",
    "model.compile(loss='categorical_crossentropy', optimizer=adam, metrics=['accuracy'])\n",
    "model.summary()"
   ]
  },
  {
   "cell_type": "markdown",
   "id": "871b9eca",
   "metadata": {
    "papermill": {
     "duration": 0.026492,
     "end_time": "2024-06-16T19:14:12.789068",
     "exception": false,
     "start_time": "2024-06-16T19:14:12.762576",
     "status": "completed"
    },
    "tags": []
   },
   "source": [
    "**This is the summary of a deep learning model built using the Keras functional API. The model consists of several layers, each of which has a specific type and number of parameters.**\n",
    "\n",
    "The first layer is an \"Embedding\" layer, which takes in integer-encoded text and looks up the embedding vector for each word in the input. The output of this layer is a 3D tensor with shape (batch_size, sequence_length, embedding_dim), where batch_size is the number of examples in the batch, sequence_length is the length of the input sequences, and embedding_dim is the size of the embedding vectors. In this case, the input sequences are 229 words long and the embedding vectors are 200 dimensions. The embedding layer has a total of 2,863,600 trainable parameters.\n",
    "\n",
    "The next three layers are \"Bidirectional\" layers, which apply a forward and backward LSTM to the input. LSTMs are a type of recurrent neural network that are able to capture long-term dependencies in sequential data. The output of each bidirectional layer is a 3D tensor with shape (batch_size, sequence_length, units), where units is the number of LSTM units in the layer. In this case, the first bidirectional layer has 512 units, the second has 256 units, and the third has 256 units. Each of these layers has a large number of trainable parameters, as LSTMs are complex models with many internal weights.\n",
    "\n",
    "The final layer is a \"Dense\" layer, which applies a linear transformation to the input to produce the output. In this case, the output has shape (batch_size, 6), indicating that there are 6 classes. The dense layer has a total of 1,542 trainable parameters.\n",
    "\n",
    "Overall, the model has a total of 4,851,702 trainable parameters and 2,863,600 non-trainable parameters"
   ]
  },
  {
   "cell_type": "code",
   "execution_count": 60,
   "id": "14d743c5",
   "metadata": {
    "execution": {
     "iopub.execute_input": "2024-06-16T19:14:12.843424Z",
     "iopub.status.busy": "2024-06-16T19:14:12.842892Z",
     "iopub.status.idle": "2024-06-16T19:14:13.374379Z",
     "shell.execute_reply": "2024-06-16T19:14:13.373586Z"
    },
    "papermill": {
     "duration": 0.560908,
     "end_time": "2024-06-16T19:14:13.376569",
     "exception": false,
     "start_time": "2024-06-16T19:14:12.815661",
     "status": "completed"
    },
    "tags": []
   },
   "outputs": [],
   "source": [
    "input_shape = X_train.shape  \n",
    "model.build(input_shape)"
   ]
  },
  {
   "cell_type": "code",
   "execution_count": 61,
   "id": "71841321",
   "metadata": {
    "execution": {
     "iopub.execute_input": "2024-06-16T19:14:13.431801Z",
     "iopub.status.busy": "2024-06-16T19:14:13.431513Z",
     "iopub.status.idle": "2024-06-16T19:14:13.781289Z",
     "shell.execute_reply": "2024-06-16T19:14:13.780417Z"
    },
    "papermill": {
     "duration": 0.380582,
     "end_time": "2024-06-16T19:14:13.784178",
     "exception": false,
     "start_time": "2024-06-16T19:14:13.403596",
     "status": "completed"
    },
    "tags": []
   },
   "outputs": [
    {
     "data": {
      "image/png": "[encoded data removed]",
      "text/plain": [
       "<IPython.core.display.Image object>"
      ]
     },
     "execution_count": 61,
     "metadata": {},
     "output_type": "execute_result"
    }
   ],
   "source": [
    "from keras.utils import plot_model\n",
    "plot_model(model, show_shapes=True)"
   ]
  },
  {
   "cell_type": "code",
   "execution_count": 62,
   "id": "9b10755a",
   "metadata": {
    "execution": {
     "iopub.execute_input": "2024-06-16T19:14:13.842955Z",
     "iopub.status.busy": "2024-06-16T19:14:13.842466Z",
     "iopub.status.idle": "2024-06-16T19:14:13.846495Z",
     "shell.execute_reply": "2024-06-16T19:14:13.845683Z"
    },
    "papermill": {
     "duration": 0.035198,
     "end_time": "2024-06-16T19:14:13.848383",
     "exception": false,
     "start_time": "2024-06-16T19:14:13.813185",
     "status": "completed"
    },
    "tags": []
   },
   "outputs": [],
   "source": [
    "#to stop the training when the loss starts to increase\n",
    "callback = EarlyStopping(\n",
    "    monitor=\"val_loss\",\n",
    "    patience=4,\n",
    "    restore_best_weights=True,\n",
    ")"
   ]
  },
  {
   "cell_type": "code",
   "execution_count": 63,
   "id": "e8f120f1",
   "metadata": {
    "execution": {
     "iopub.execute_input": "2024-06-16T19:14:13.906569Z",
     "iopub.status.busy": "2024-06-16T19:14:13.906055Z",
     "iopub.status.idle": "2024-06-16T19:31:47.459858Z",
     "shell.execute_reply": "2024-06-16T19:31:47.459027Z"
    },
    "papermill": {
     "duration": 1053.585138,
     "end_time": "2024-06-16T19:31:47.461890",
     "exception": false,
     "start_time": "2024-06-16T19:14:13.876752",
     "status": "completed"
    },
    "tags": []
   },
   "outputs": [
    {
     "name": "stdout",
     "output_type": "stream",
     "text": [
      "Epoch 1/30\n",
      "\u001b[1m63/63\u001b[0m \u001b[32m━━━━━━━━━━━━━━━━━━━━\u001b[0m\u001b[37m\u001b[0m \u001b[1m108s\u001b[0m 2s/step - accuracy: 0.4303 - loss: 1.4517 - val_accuracy: 0.7643 - val_loss: 0.6541\n",
      "Epoch 2/30\n",
      "\u001b[1m63/63\u001b[0m \u001b[32m━━━━━━━━━━━━━━━━━━━━\u001b[0m\u001b[37m\u001b[0m \u001b[1m95s\u001b[0m 2s/step - accuracy: 0.7971 - loss: 0.5710 - val_accuracy: 0.8934 - val_loss: 0.3094\n",
      "Epoch 3/30\n",
      "\u001b[1m63/63\u001b[0m \u001b[32m━━━━━━━━━━━━━━━━━━━━\u001b[0m\u001b[37m\u001b[0m \u001b[1m142s\u001b[0m 2s/step - accuracy: 0.8943 - loss: 0.2892 - val_accuracy: 0.9199 - val_loss: 0.1908\n",
      "Epoch 4/30\n",
      "\u001b[1m63/63\u001b[0m \u001b[32m━━━━━━━━━━━━━━━━━━━━\u001b[0m\u001b[37m\u001b[0m \u001b[1m141s\u001b[0m 2s/step - accuracy: 0.9264 - loss: 0.1781 - val_accuracy: 0.9319 - val_loss: 0.1530\n",
      "Epoch 5/30\n",
      "\u001b[1m63/63\u001b[0m \u001b[32m━━━━━━━━━━━━━━━━━━━━\u001b[0m\u001b[37m\u001b[0m \u001b[1m95s\u001b[0m 2s/step - accuracy: 0.9373 - loss: 0.1349 - val_accuracy: 0.9384 - val_loss: 0.1278\n",
      "Epoch 6/30\n",
      "\u001b[1m63/63\u001b[0m \u001b[32m━━━━━━━━━━━━━━━━━━━━\u001b[0m\u001b[37m\u001b[0m \u001b[1m142s\u001b[0m 2s/step - accuracy: 0.9477 - loss: 0.1149 - val_accuracy: 0.9284 - val_loss: 0.1325\n",
      "Epoch 7/30\n",
      "\u001b[1m63/63\u001b[0m \u001b[32m━━━━━━━━━━━━━━━━━━━━\u001b[0m\u001b[37m\u001b[0m \u001b[1m141s\u001b[0m 1s/step - accuracy: 0.9478 - loss: 0.1057 - val_accuracy: 0.9294 - val_loss: 0.1311\n",
      "Epoch 8/30\n",
      "\u001b[1m63/63\u001b[0m \u001b[32m━━━━━━━━━━━━━━━━━━━━\u001b[0m\u001b[37m\u001b[0m \u001b[1m95s\u001b[0m 2s/step - accuracy: 0.9500 - loss: 0.0976 - val_accuracy: 0.9349 - val_loss: 0.1403\n",
      "Epoch 9/30\n",
      "\u001b[1m63/63\u001b[0m \u001b[32m━━━━━━━━━━━━━━━━━━━━\u001b[0m\u001b[37m\u001b[0m \u001b[1m94s\u001b[0m 1s/step - accuracy: 0.9557 - loss: 0.0933 - val_accuracy: 0.9324 - val_loss: 0.1314\n"
     ]
    }
   ],
   "source": [
    "# Fit model\n",
    "history = model.fit(X_train,\n",
    "                    y_train,\n",
    "                    validation_data=(X_val, y_val),\n",
    "                    verbose=1,\n",
    "                    batch_size=256,\n",
    "                    epochs=30,\n",
    "                    callbacks=[callback]\n",
    "                   )"
   ]
  },
  {
   "cell_type": "code",
   "execution_count": 64,
   "id": "e09ed0f5",
   "metadata": {
    "execution": {
     "iopub.execute_input": "2024-06-16T19:31:47.620178Z",
     "iopub.status.busy": "2024-06-16T19:31:47.619838Z",
     "iopub.status.idle": "2024-06-16T19:32:07.877922Z",
     "shell.execute_reply": "2024-06-16T19:32:07.877132Z"
    },
    "papermill": {
     "duration": 20.33737,
     "end_time": "2024-06-16T19:32:07.879846",
     "exception": false,
     "start_time": "2024-06-16T19:31:47.542476",
     "status": "completed"
    },
    "tags": []
   },
   "outputs": [
    {
     "name": "stdout",
     "output_type": "stream",
     "text": [
      "\u001b[1m63/63\u001b[0m \u001b[32m━━━━━━━━━━━━━━━━━━━━\u001b[0m\u001b[37m\u001b[0m \u001b[1m20s\u001b[0m 320ms/step - accuracy: 0.9382 - loss: 0.1207\n"
     ]
    },
    {
     "data": {
      "text/plain": [
       "[0.1278076022863388, 0.9384384155273438]"
      ]
     },
     "execution_count": 64,
     "metadata": {},
     "output_type": "execute_result"
    }
   ],
   "source": [
    "#print the overall loss and accuracy\n",
    "model.evaluate(X_val, y_val, verbose=1) "
   ]
  },
  {
   "cell_type": "code",
   "execution_count": 65,
   "id": "9f8d4025",
   "metadata": {
    "execution": {
     "iopub.execute_input": "2024-06-16T19:32:08.042675Z",
     "iopub.status.busy": "2024-06-16T19:32:08.042355Z",
     "iopub.status.idle": "2024-06-16T19:32:28.444395Z",
     "shell.execute_reply": "2024-06-16T19:32:28.443382Z"
    },
    "papermill": {
     "duration": 20.486857,
     "end_time": "2024-06-16T19:32:28.446572",
     "exception": false,
     "start_time": "2024-06-16T19:32:07.959715",
     "status": "completed"
    },
    "tags": []
   },
   "outputs": [
    {
     "name": "stdout",
     "output_type": "stream",
     "text": [
      "\u001b[1m63/63\u001b[0m \u001b[32m━━━━━━━━━━━━━━━━━━━━\u001b[0m\u001b[37m\u001b[0m \u001b[1m20s\u001b[0m 322ms/step - accuracy: 0.9243 - loss: 0.1432\n"
     ]
    },
    {
     "data": {
      "text/plain": [
       "[0.14606623351573944, 0.9240000247955322]"
      ]
     },
     "execution_count": 65,
     "metadata": {},
     "output_type": "execute_result"
    }
   ],
   "source": [
    "#print the overall loss and accuracy\n",
    "model.evaluate(X_test, y_test, verbose=1) "
   ]
  },
  {
   "cell_type": "code",
   "execution_count": 66,
   "id": "3e73877f",
   "metadata": {
    "execution": {
     "iopub.execute_input": "2024-06-16T19:32:28.615990Z",
     "iopub.status.busy": "2024-06-16T19:32:28.615685Z",
     "iopub.status.idle": "2024-06-16T19:32:51.109378Z",
     "shell.execute_reply": "2024-06-16T19:32:51.108209Z"
    },
    "papermill": {
     "duration": 22.580396,
     "end_time": "2024-06-16T19:32:51.111316",
     "exception": false,
     "start_time": "2024-06-16T19:32:28.530920",
     "status": "completed"
    },
    "tags": []
   },
   "outputs": [
    {
     "name": "stdout",
     "output_type": "stream",
     "text": [
      "\u001b[1m63/63\u001b[0m \u001b[32m━━━━━━━━━━━━━━━━━━━━\u001b[0m\u001b[37m\u001b[0m \u001b[1m22s\u001b[0m 342ms/step\n",
      "              precision    recall  f1-score   support\n",
      "\n",
      "           0       0.89      0.96      0.93       275\n",
      "           1       0.91      0.89      0.90       224\n",
      "           2       0.95      0.93      0.94       695\n",
      "           3       0.79      0.87      0.83       159\n",
      "           4       0.97      0.96      0.96       581\n",
      "           5       0.79      0.68      0.73        66\n",
      "\n",
      "    accuracy                           0.92      2000\n",
      "   macro avg       0.88      0.88      0.88      2000\n",
      "weighted avg       0.93      0.92      0.92      2000\n",
      "\n"
     ]
    }
   ],
   "source": [
    "predicted = model.predict(X_test)\n",
    "y_pred = predicted.argmax(axis=-1)\n",
    "\n",
    "print(classification_report(le.transform(df_test['Emotion']), y_pred))"
   ]
  },
  {
   "cell_type": "code",
   "execution_count": 67,
   "id": "c0a54e41",
   "metadata": {
    "execution": {
     "iopub.execute_input": "2024-06-16T19:32:51.291740Z",
     "iopub.status.busy": "2024-06-16T19:32:51.291454Z",
     "iopub.status.idle": "2024-06-16T19:32:54.251871Z",
     "shell.execute_reply": "2024-06-16T19:32:54.250752Z"
    },
    "papermill": {
     "duration": 3.052145,
     "end_time": "2024-06-16T19:32:54.253961",
     "exception": false,
     "start_time": "2024-06-16T19:32:51.201816",
     "status": "completed"
    },
    "tags": []
   },
   "outputs": [
    {
     "name": "stdout",
     "output_type": "stream",
     "text": [
      "He's over the moon about being accepted to the university\n",
      "\u001b[1m1/1\u001b[0m \u001b[32m━━━━━━━━━━━━━━━━━━━━\u001b[0m\u001b[37m\u001b[0m \u001b[1m0s\u001b[0m 339ms/step\n",
      "\u001b[1m1/1\u001b[0m \u001b[32m━━━━━━━━━━━━━━━━━━━━\u001b[0m\u001b[37m\u001b[0m \u001b[1m0s\u001b[0m 316ms/step\n",
      "joy : 0.8832380175590515\n",
      "\n",
      "\n",
      "Your point on this certain matter made me outrageous, how can you say so? This is insane.\n",
      "\u001b[1m1/1\u001b[0m \u001b[32m━━━━━━━━━━━━━━━━━━━━\u001b[0m\u001b[37m\u001b[0m \u001b[1m0s\u001b[0m 340ms/step\n",
      "\u001b[1m1/1\u001b[0m \u001b[32m━━━━━━━━━━━━━━━━━━━━\u001b[0m\u001b[37m\u001b[0m \u001b[1m0s\u001b[0m 319ms/step\n",
      "anger : 0.7137599587440491\n",
      "\n",
      "\n",
      "I can't do it, I'm not ready to lose anything, just leave me alone\n",
      "\u001b[1m1/1\u001b[0m \u001b[32m━━━━━━━━━━━━━━━━━━━━\u001b[0m\u001b[37m\u001b[0m \u001b[1m0s\u001b[0m 324ms/step\n",
      "\u001b[1m1/1\u001b[0m \u001b[32m━━━━━━━━━━━━━━━━━━━━\u001b[0m\u001b[37m\u001b[0m \u001b[1m0s\u001b[0m 339ms/step\n",
      "anger : 0.34194573760032654\n",
      "\n",
      "\n",
      "Merlin's beard harry, you can cast the Patronus charm! I'm amazed!\n",
      "\u001b[1m1/1\u001b[0m \u001b[32m━━━━━━━━━━━━━━━━━━━━\u001b[0m\u001b[37m\u001b[0m \u001b[1m0s\u001b[0m 339ms/step\n",
      "\u001b[1m1/1\u001b[0m \u001b[32m━━━━━━━━━━━━━━━━━━━━\u001b[0m\u001b[37m\u001b[0m \u001b[1m0s\u001b[0m 324ms/step\n",
      "surprise : 0.6444028615951538\n",
      "\n",
      "\n"
     ]
    }
   ],
   "source": [
    "# Classify custom sample\n",
    "\n",
    "sentences = [\n",
    "            \"He's over the moon about being accepted to the university\",\n",
    "            \"Your point on this certain matter made me outrageous, how can you say so? This is insane.\",\n",
    "            \"I can't do it, I'm not ready to lose anything, just leave me alone\",\n",
    "            \"Merlin's beard harry, you can cast the Patronus charm! I'm amazed!\"\n",
    "            ]\n",
    "for sentence in sentences:\n",
    "    print(sentence)\n",
    "    sentence = normalized_sentence(sentence)\n",
    "    sentence = tokenizer.texts_to_sequences([sentence])\n",
    "    sentence = pad_sequences(sentence, maxlen=229, truncating='pre')\n",
    "    result = le.inverse_transform(np.argmax(model.predict(sentence), axis=-1))[0]\n",
    "    proba =  np.max(model.predict(sentence))\n",
    "    print(f\"{result} : {proba}\\n\\n\")"
   ]
  },
  {
   "cell_type": "code",
   "execution_count": 68,
   "id": "2e638f56",
   "metadata": {
    "execution": {
     "iopub.execute_input": "2024-06-16T19:32:54.438977Z",
     "iopub.status.busy": "2024-06-16T19:32:54.438678Z",
     "iopub.status.idle": "2024-06-16T19:32:54.542633Z",
     "shell.execute_reply": "2024-06-16T19:32:54.541830Z"
    },
    "papermill": {
     "duration": 0.198208,
     "end_time": "2024-06-16T19:32:54.544777",
     "exception": false,
     "start_time": "2024-06-16T19:32:54.346569",
     "status": "completed"
    },
    "tags": []
   },
   "outputs": [],
   "source": [
    "model.save('LSTM_emotion_model.h5')"
   ]
  },
  {
   "cell_type": "code",
   "execution_count": 69,
   "id": "ab6459a5",
   "metadata": {
    "execution": {
     "iopub.execute_input": "2024-06-16T19:32:54.726840Z",
     "iopub.status.busy": "2024-06-16T19:32:54.726547Z",
     "iopub.status.idle": "2024-06-16T19:32:57.980650Z",
     "shell.execute_reply": "2024-06-16T19:32:57.979429Z"
    },
    "papermill": {
     "duration": 3.347223,
     "end_time": "2024-06-16T19:32:57.983125",
     "exception": false,
     "start_time": "2024-06-16T19:32:54.635902",
     "status": "completed"
    },
    "tags": []
   },
   "outputs": [
    {
     "name": "stderr",
     "output_type": "stream",
     "text": [
      "/opt/conda/lib/python3.10/pty.py:89: RuntimeWarning: os.fork() was called. os.fork() is incompatible with multithreaded code, and JAX is multithreaded, so this will likely lead to a deadlock.\n",
      "  pid, fd = os.forkpty()\n"
     ]
    }
   ],
   "source": [
    "!pip freeze > requirements.txt"
   ]
  },
  {
   "cell_type": "code",
   "execution_count": null,
   "id": "adf87032",
   "metadata": {
    "papermill": {
     "duration": 0.104873,
     "end_time": "2024-06-16T19:32:58.182536",
     "exception": false,
     "start_time": "2024-06-16T19:32:58.077663",
     "status": "completed"
    },
    "tags": []
   },
   "outputs": [],
   "source": []
  }
 ],
 "metadata": {
  "kaggle": {
   "accelerator": "nvidiaTeslaT4",
   "dataSources": [
    {
     "datasetId": 1835,
     "sourceId": 3176,
     "sourceType": "datasetVersion"
    },
    {
     "datasetId": 605165,
     "sourceId": 1085454,
     "sourceType": "datasetVersion"
    }
   ],
   "dockerImageVersionId": 30733,
   "isGpuEnabled": true,
   "isInternetEnabled": true,
   "language": "python",
   "sourceType": "notebook"
  },
  "kernelspec": {
   "display_name": "Python 3",
   "language": "python",
   "name": "python3"
  },
  "language_info": {
   "codemirror_mode": {
    "name": "ipython",
    "version": 3
   },
   "file_extension": ".py",
   "mimetype": "text/x-python",
   "name": "python",
   "nbconvert_exporter": "python",
   "pygments_lexer": "ipython3",
   "version": "3.10.13"
  },
  "papermill": {
   "default_parameters": {},
   "duration": 1181.73953,
   "end_time": "2024-06-16T19:33:01.946822",
   "environment_variables": {},
   "exception": null,
   "input_path": "__notebook__.ipynb",
   "output_path": "__notebook__.ipynb",
   "parameters": {},
   "start_time": "2024-06-16T19:13:20.207292",
   "version": "2.5.0"
  }
 },
 "nbformat": 4,
 "nbformat_minor": 5
}
